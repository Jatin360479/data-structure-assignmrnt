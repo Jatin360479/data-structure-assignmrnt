{
 "cells": [
  {
   "cell_type": "markdown",
   "id": "51c2223f-d6d3-4997-80c5-5c41d2d84d4b",
   "metadata": {},
   "source": [
    "                                            QUESTION NO. 1"
   ]
  },
  {
   "cell_type": "code",
   "execution_count": 11,
   "id": "e7e804fb-1066-4112-98e1-301f0c24d021",
   "metadata": {},
   "outputs": [
    {
     "data": {
      "text/plain": [
       "'Answer : A string is a sequence of characters in which slicing as a part it work as (1:5:2) in which stating indexing is inclusive and end has a exclusive nature and the last one is steps on how many steps. normally we can understand it by (n,n-1).'"
      ]
     },
     "execution_count": 11,
     "metadata": {},
     "output_type": "execute_result"
    }
   ],
   "source": [
    "# Queston 1 : Discuss string slicing and provide Examples.\n",
    "\"Answer : A string is a sequence of characters in which slicing as a part it work as (1:5:2) in which stating indexing is inclusive and end has a exclusive nature and the last one is steps on how many steps. normally we can understand it by (n,n-1).\""
   ]
  },
  {
   "cell_type": "code",
   "execution_count": 12,
   "id": "1bcc6bbc-f7e3-49c4-8449-769b914c7ace",
   "metadata": {},
   "outputs": [
    {
     "name": "stdout",
     "output_type": "stream",
     "text": [
      "Jt\n"
     ]
    }
   ],
   "source": [
    "# In reference to question 1\n",
    "s=(\"Jatin\")\n",
    "str=s[0:4:2]    # here slicing is done as it prints Jt.\n",
    "print(str)"
   ]
  },
  {
   "cell_type": "markdown",
   "id": "a17ba7be-0b77-4b82-b161-02cd671d6a45",
   "metadata": {},
   "source": [
    "                                                QUESTION NO 2"
   ]
  },
  {
   "cell_type": "code",
   "execution_count": 4,
   "id": "3b11a68d-ac8c-475c-866a-7ac85a52ae86",
   "metadata": {},
   "outputs": [
    {
     "data": {
      "text/plain": [
       "'Answer :These are the following key features of lists in python  1.Lists are heterogeneous in nature     2.Lists can get duplicate items.    3.Lists are mutable and dynamic in nature.     4.Items of lists can be added removed once a list is defined'"
      ]
     },
     "execution_count": 4,
     "metadata": {},
     "output_type": "execute_result"
    }
   ],
   "source": [
    "# Question 2 : Explain the key features of lists in python.\n",
    "\"Answer :These are the following key features of lists in python  1.Lists are heterogeneous in nature     2.Lists can get duplicate items.    3.Lists are mutable and dynamic in nature.     4.Items of lists can be added removed once a list is defined\""
   ]
  },
  {
   "cell_type": "code",
   "execution_count": 18,
   "id": "969bc455-6536-4fc4-a6da-19fd350aa7bb",
   "metadata": {},
   "outputs": [
    {
     "name": "stdout",
     "output_type": "stream",
     "text": [
      "[15, 2, '3+j', '3+f', 7, 'hh']\n"
     ]
    }
   ],
   "source": [
    "#In reference to question 2\n",
    "#Example: \n",
    "a=[1,2,\"3+j\",\"3+f\",7,\"hh\"]                 #Firstly these are unordrable\n",
    "a[0]=15                                    #here we change oth index 1 by 15 it can change\n",
    "print(a)"
   ]
  },
  {
   "cell_type": "markdown",
   "id": "138413a3-08aa-4624-8440-212a248244b1",
   "metadata": {},
   "source": [
    "                                                   QUESTION NO 3"
   ]
  },
  {
   "cell_type": "code",
   "execution_count": 37,
   "id": "1edf4f43-3da5-4130-9744-a852e3545ac0",
   "metadata": {},
   "outputs": [
    {
     "name": "stdout",
     "output_type": "stream",
     "text": [
      "jatin sumit gagan dhawan\n"
     ]
    }
   ],
   "source": [
    "# Question 3 : Describe how to access,modify,and delete elements in a list with Examples.\n",
    "\"Answer :\"\n",
    "# For accessing the value\n",
    "lst=[\"jatin\",\"sumit\",\"gagan\",\"dhawan\"]\n",
    "print(lst[0],lst[1],lst[2],lst[3])"
   ]
  },
  {
   "cell_type": "markdown",
   "id": "bb037ac2-c49d-4858-b9db-864e03aea35a",
   "metadata": {},
   "source": [
    "                               ACCESSING ELEMENTS IN PYTHON"
   ]
  },
  {
   "cell_type": "code",
   "execution_count": 38,
   "id": "a68c9c72-11bc-4b9b-bea6-d5b7bab8dd1c",
   "metadata": {},
   "outputs": [
    {
     "name": "stdout",
     "output_type": "stream",
     "text": [
      "index\tlist items\n",
      "0\tjatin\n",
      "1\tsumit\n",
      "2\tgagan\n",
      "3\tdhawan\n"
     ]
    }
   ],
   "source": [
    "# So basically the indexing aand list items are this\n",
    "print(\"index\"\"\\t\"\"list items\"\"\\n\"\"0\"\"\\t\"\"jatin\"\"\\n\"\"1\"\"\\t\"\"sumit\"\"\\n\"\"2\"\"\\t\"\"gagan\"\"\\n\"\"3\"\"\\t\"\"dhawan\")"
   ]
  },
  {
   "cell_type": "markdown",
   "id": "386e9e83-fc6c-4995-9987-078a564a74ca",
   "metadata": {},
   "source": [
    "                                       FOR MODIFY A LIST"
   ]
  },
  {
   "cell_type": "code",
   "execution_count": 42,
   "id": "62e89c2c-a107-4b05-9a41-ebe2e525a947",
   "metadata": {},
   "outputs": [
    {
     "data": {
      "text/plain": [
       "['jatin', 'sumit', 'gagan', 'dhawan']"
      ]
     },
     "execution_count": 42,
     "metadata": {},
     "output_type": "execute_result"
    }
   ],
   "source": [
    "lst"
   ]
  },
  {
   "cell_type": "code",
   "execution_count": 47,
   "id": "5982b6ee-d38a-410a-9ad7-698a0c73f337",
   "metadata": {},
   "outputs": [
    {
     "name": "stdout",
     "output_type": "stream",
     "text": [
      "['jatin', 'anshul', 'gagan', 'dhawan']\n"
     ]
    }
   ],
   "source": [
    "# We have already a list so we it\n",
    "# We already access the values as above\n",
    "lst[1]=\"anshul\"                  #here we modify gagan by anshul\n",
    "print(lst)"
   ]
  },
  {
   "cell_type": "markdown",
   "id": "f208c64f-cfb1-4de1-a28b-d7dcd9c93f78",
   "metadata": {},
   "source": [
    "                                           FOR DELETE ELEMENTS"
   ]
  },
  {
   "cell_type": "code",
   "execution_count": 17,
   "id": "f1e1a511-36c9-4b46-91d1-7502d8f934f9",
   "metadata": {},
   "outputs": [],
   "source": [
    "lst=[\"rahul\",\"sumit\",\"gagan\",\"dhawan\"]             #doing our work on already defined list"
   ]
  },
  {
   "cell_type": "code",
   "execution_count": 18,
   "id": "0a1625c4-5e52-4f01-9851-d3a94c9117ec",
   "metadata": {},
   "outputs": [
    {
     "data": {
      "text/plain": [
       "['rahul', 'sumit', 'gagan', 'dhawan']"
      ]
     },
     "execution_count": 18,
     "metadata": {},
     "output_type": "execute_result"
    }
   ],
   "source": [
    "lst"
   ]
  },
  {
   "cell_type": "code",
   "execution_count": 19,
   "id": "b28e15b9-56be-41e5-bc91-3f9b34aae9ce",
   "metadata": {},
   "outputs": [],
   "source": [
    "# we want to delete element from list\n",
    "lst.remove(\"rahul\")                                 #we remove anshul by remove keyword"
   ]
  },
  {
   "cell_type": "code",
   "execution_count": 20,
   "id": "036db8d5-759c-475a-ba7a-a72d036570dd",
   "metadata": {},
   "outputs": [
    {
     "data": {
      "text/plain": [
       "['sumit', 'gagan', 'dhawan']"
      ]
     },
     "execution_count": 20,
     "metadata": {},
     "output_type": "execute_result"
    }
   ],
   "source": [
    "# if we check new list after delete jatin \n",
    "lst"
   ]
  },
  {
   "cell_type": "code",
   "execution_count": 21,
   "id": "1144aa24-1352-4877-9330-8993ed307d8e",
   "metadata": {},
   "outputs": [
    {
     "data": {
      "text/plain": [
       "['sumit', 'gagan', 'dhawan']"
      ]
     },
     "execution_count": 21,
     "metadata": {},
     "output_type": "execute_result"
    }
   ],
   "source": [
    "# We want to remove all elements from a list\n",
    "lst"
   ]
  },
  {
   "cell_type": "code",
   "execution_count": 26,
   "id": "e77bff4c-cd53-478b-b6db-f47492a39bca",
   "metadata": {},
   "outputs": [],
   "source": [
    "lst.clear()                             #here we delete all items from the list and makes the list empty"
   ]
  },
  {
   "cell_type": "code",
   "execution_count": 25,
   "id": "7f90f147-7a5d-4746-86c6-99296a7d2b90",
   "metadata": {},
   "outputs": [
    {
     "data": {
      "text/plain": [
       "[]"
      ]
     },
     "execution_count": 25,
     "metadata": {},
     "output_type": "execute_result"
    }
   ],
   "source": [
    "lst"
   ]
  },
  {
   "cell_type": "markdown",
   "id": "f2e7d0db-9dda-4e36-a0c3-716382a449de",
   "metadata": {},
   "source": [
    "                                                QUESTION 4"
   ]
  },
  {
   "cell_type": "code",
   "execution_count": 42,
   "id": "c91129d8-90c4-418f-ac81-542884be34d3",
   "metadata": {},
   "outputs": [
    {
     "data": {
      "text/plain": [
       "'Answer : Comparions  :-    1.Lists are mutable whereas tuples are immutable       2.Lists have several built in methods whereas tuples have not several built in           3.unexpected errors canshow whereas tuples are immutable there is less chance of errors.        4.symbol of list[],symbol of tuples ()'"
      ]
     },
     "execution_count": 42,
     "metadata": {},
     "output_type": "execute_result"
    }
   ],
   "source": [
    "# Question 4 : Compare and contrast tuples and lists with example.\n",
    "# FIRSTLY TALK ABOUT LISTS\n",
    "\"Answer : Comparions  :-    1.Lists are mutable whereas tuples are immutable       2.Lists have several built in methods whereas tuples have not several built in           3.unexpected errors canshow whereas tuples are immutable there is less chance of errors.        4.symbol of list[],symbol of tuples ()\""
   ]
  },
  {
   "cell_type": "markdown",
   "id": "9eea48d4-ba35-49c1-bf5c-ef83e0a37e59",
   "metadata": {},
   "source": [
    "           EXAMPLES :-"
   ]
  },
  {
   "cell_type": "code",
   "execution_count": 43,
   "id": "640c839a-824b-4593-b551-38af0dc2e8e6",
   "metadata": {},
   "outputs": [
    {
     "data": {
      "text/plain": [
       "87"
      ]
     },
     "execution_count": 43,
     "metadata": {},
     "output_type": "execute_result"
    }
   ],
   "source": [
    "#LISTS\n",
    "b1=[55,87,69,45,85,87,]\n",
    "b1[5]                                        "
   ]
  },
  {
   "cell_type": "code",
   "execution_count": 46,
   "id": "62117fad-a102-44d1-a687-3e95e3f3ef92",
   "metadata": {},
   "outputs": [],
   "source": [
    "b1[5]=77                              #Earlier we see 5th indexing is 87 but now we chage it by 77 and it change because it it mutable."
   ]
  },
  {
   "cell_type": "code",
   "execution_count": 45,
   "id": "d7cde35f-a49f-495c-9777-34c8c9c9ddfa",
   "metadata": {},
   "outputs": [
    {
     "data": {
      "text/plain": [
       "[55, 87, 69, 45, 85, 77]"
      ]
     },
     "execution_count": 45,
     "metadata": {},
     "output_type": "execute_result"
    }
   ],
   "source": [
    "b1"
   ]
  },
  {
   "cell_type": "code",
   "execution_count": 48,
   "id": "57c1b759-4a1b-4162-9705-92eb368bc70a",
   "metadata": {},
   "outputs": [
    {
     "data": {
      "text/plain": [
       "'mango'"
      ]
     },
     "execution_count": 48,
     "metadata": {},
     "output_type": "execute_result"
    }
   ],
   "source": [
    "#TUPLES\n",
    "tp1=(\"mango\",\"apple\",\"pineapple\",\"lichi\",\"grapes\")\n",
    "tp1[0]"
   ]
  },
  {
   "cell_type": "code",
   "execution_count": 50,
   "id": "4b139b18-e8f4-43e1-8850-93dba559d6bb",
   "metadata": {},
   "outputs": [
    {
     "ename": "TypeError",
     "evalue": "'tuple' object does not support item assignment",
     "output_type": "error",
     "traceback": [
      "\u001b[0;31m---------------------------------------------------------------------------\u001b[0m",
      "\u001b[0;31mTypeError\u001b[0m                                 Traceback (most recent call last)",
      "Cell \u001b[0;32mIn[50], line 1\u001b[0m\n\u001b[0;32m----> 1\u001b[0m \u001b[43mtp1\u001b[49m\u001b[43m[\u001b[49m\u001b[38;5;241;43m0\u001b[39;49m\u001b[43m]\u001b[49m\u001b[38;5;241m=\u001b[39m\u001b[38;5;124m\"\u001b[39m\u001b[38;5;124mblack berries\u001b[39m\u001b[38;5;124m\"\u001b[39m               \u001b[38;5;66;03m# here it shows an error because it is immutable\u001b[39;00m\n",
      "\u001b[0;31mTypeError\u001b[0m: 'tuple' object does not support item assignment"
     ]
    }
   ],
   "source": [
    "tp1[0]=\"black berries\"               # here it shows an error because it is immutable"
   ]
  },
  {
   "cell_type": "markdown",
   "id": "f03086f5-b975-4566-812d-dbf7a3dd3687",
   "metadata": {},
   "source": [
    "                                            QUESTION 5"
   ]
  },
  {
   "cell_type": "code",
   "execution_count": 52,
   "id": "cdfb6cb6-5c10-4292-9550-8b40166f08e9",
   "metadata": {},
   "outputs": [
    {
     "data": {
      "text/plain": [
       "'Answer : Sets are used to store multiple items in a single variable. these are unique they are not allow duplicate value. they are unordered i nature.'"
      ]
     },
     "execution_count": 52,
     "metadata": {},
     "output_type": "execute_result"
    }
   ],
   "source": [
    "# Question 5 : Describe the key features of set and provide examples of their use.\n",
    "\"Answer : Sets are used to store multiple items in a single variable. these are unique they are not allow duplicate value. they are unordered i nature.\""
   ]
  },
  {
   "cell_type": "code",
   "execution_count": 54,
   "id": "bec7ed6a-13c1-4f89-aa4a-bbb9adf702b3",
   "metadata": {},
   "outputs": [
    {
     "name": "stdout",
     "output_type": "stream",
     "text": [
      "{'tamato', 'potato', 'cauliflower', 'brinjal'}\n"
     ]
    }
   ],
   "source": [
    "# In reference to question 5\n",
    "list1=[\"cauliflower\",\"cauliflower\",\"potato\",\"tamato\",\"brinjal\",\"brinjal\"]\n",
    "s=set(list1)                  # here we change a list to set and multiple occurrence convert into one.\n",
    "print(s)\n"
   ]
  },
  {
   "cell_type": "code",
   "execution_count": 55,
   "id": "0182bfa5-9b3e-496c-b7eb-6048bbb3e0c8",
   "metadata": {},
   "outputs": [
    {
     "ename": "NameError",
     "evalue": "name 'S' is not defined",
     "output_type": "error",
     "traceback": [
      "\u001b[0;31m---------------------------------------------------------------------------\u001b[0m",
      "\u001b[0;31mNameError\u001b[0m                                 Traceback (most recent call last)",
      "Cell \u001b[0;32mIn[55], line 3\u001b[0m\n\u001b[1;32m      1\u001b[0m \u001b[38;5;66;03m# Another Example in reference to question 5\u001b[39;00m\n\u001b[1;32m      2\u001b[0m \u001b[38;5;66;03m# AS WORKING ON PREVIOUS SET\u001b[39;00m\n\u001b[0;32m----> 3\u001b[0m \u001b[43mS\u001b[49m[\u001b[38;5;241m0\u001b[39m]\n",
      "\u001b[0;31mNameError\u001b[0m: name 'S' is not defined"
     ]
    }
   ],
   "source": [
    "# Another Example in reference to question 5\n",
    "# AS WORKING ON PREVIOUS SET\n",
    "S[0]                                         # IF WE WANT TO ACCESS ANY ITEM IT CANNOT ACCESS\n"
   ]
  },
  {
   "cell_type": "markdown",
   "id": "63a79fcc-69c5-4882-a787-124b2605beec",
   "metadata": {},
   "source": [
    "                                          QUESTION NO 6"
   ]
  },
  {
   "cell_type": "code",
   "execution_count": 1,
   "id": "8550f3ea-4e1d-4c60-ae29-f3683ec3efae",
   "metadata": {},
   "outputs": [
    {
     "data": {
      "text/plain": [
       "tuple"
      ]
     },
     "execution_count": 1,
     "metadata": {},
     "output_type": "execute_result"
    }
   ],
   "source": [
    "# Question 6 : Discuss the use cases of tuples and sets in python programming.\n",
    "# ANSWER : SOME OF THE USE CASES OF TUPLES AND SETS ARE AS FOLLOWS:\n",
    "# CREATING A TUPLE\n",
    "my_tup=(1,2,3,4,5)\n",
    "type(my_tup)"
   ]
  },
  {
   "cell_type": "code",
   "execution_count": 2,
   "id": "77354fbc-7056-4f20-8921-1841158c9c24",
   "metadata": {},
   "outputs": [
    {
     "data": {
      "text/plain": [
       "('mango', 'banana')"
      ]
     },
     "execution_count": 2,
     "metadata": {},
     "output_type": "execute_result"
    }
   ],
   "source": [
    "# SLICING OF TUPLE \n",
    "my_tup=(\"apple\",\"mango\",\"banana\",\"cherry\")\n",
    "my_tup[1:3]                       # here we access tuple"
   ]
  },
  {
   "cell_type": "code",
   "execution_count": 3,
   "id": "ba996c3f-9357-477e-8309-5f8b849ca0ce",
   "metadata": {},
   "outputs": [
    {
     "data": {
      "text/plain": [
       "('apple', 'mango', 'banana', 'cherry')"
      ]
     },
     "execution_count": 3,
     "metadata": {},
     "output_type": "execute_result"
    }
   ],
   "source": [
    "# ACCESSING A TUPLE\n",
    "my_tup"
   ]
  },
  {
   "cell_type": "code",
   "execution_count": 5,
   "id": "31e0424b-c0a1-424a-b85e-24c8c794bb0b",
   "metadata": {},
   "outputs": [
    {
     "data": {
      "text/plain": [
       "'apple'"
      ]
     },
     "execution_count": 5,
     "metadata": {},
     "output_type": "execute_result"
    }
   ],
   "source": [
    "my_tup[0]"
   ]
  },
  {
   "cell_type": "code",
   "execution_count": 6,
   "id": "ce6b27a6-961c-4772-b564-5bed934e5bfd",
   "metadata": {},
   "outputs": [
    {
     "name": "stdout",
     "output_type": "stream",
     "text": [
      "(11, 23, 55, 44, 78, 59, 56, 85, 78, 26, 54, 13, 89, 78)\n"
     ]
    }
   ],
   "source": [
    "# CONCATENATION\n",
    "a1=(11,23,55,44,78,59,56)\n",
    "a2=(85,78,26,54,13,89,78)\n",
    "print(a1+a2)"
   ]
  },
  {
   "cell_type": "code",
   "execution_count": 7,
   "id": "a843cdc2-529d-402a-80ec-ca8c29551792",
   "metadata": {},
   "outputs": [
    {
     "data": {
      "text/plain": [
       "set"
      ]
     },
     "execution_count": 7,
     "metadata": {},
     "output_type": "execute_result"
    }
   ],
   "source": [
    "# SETS EXAMPLE\n",
    "# CREATING A SET\n",
    "b1={1,4,5,2,3,6}\n",
    "type(b1)"
   ]
  },
  {
   "cell_type": "code",
   "execution_count": 13,
   "id": "9bea9142-900b-45ea-9009-5f839828a821",
   "metadata": {},
   "outputs": [
    {
     "data": {
      "text/plain": [
       "{1, 2, 3, 4, 5, 6, 10}"
      ]
     },
     "execution_count": 13,
     "metadata": {},
     "output_type": "execute_result"
    }
   ],
   "source": [
    "# ADD ELEMENTS TO A SET\n",
    "b1"
   ]
  },
  {
   "cell_type": "code",
   "execution_count": 14,
   "id": "ca7336ce-8a05-4f85-8a16-26cd2f97fc47",
   "metadata": {},
   "outputs": [],
   "source": [
    "b1.add(10)                          # we add another element which is 10"
   ]
  },
  {
   "cell_type": "code",
   "execution_count": 15,
   "id": "bf25f8fc-e555-4336-ad40-7190311efdaf",
   "metadata": {},
   "outputs": [
    {
     "data": {
      "text/plain": [
       "{1, 2, 3, 4, 5, 6, 10}"
      ]
     },
     "execution_count": 15,
     "metadata": {},
     "output_type": "execute_result"
    }
   ],
   "source": [
    "b1"
   ]
  },
  {
   "cell_type": "code",
   "execution_count": 18,
   "id": "44701842-29cf-4a1d-92f5-10cb87ead977",
   "metadata": {},
   "outputs": [
    {
     "name": "stdout",
     "output_type": "stream",
     "text": [
      "{1, 2, 3, 4, 5}\n"
     ]
    }
   ],
   "source": [
    "# SET UNION\n",
    "a1={1,2,3}\n",
    "a2={3,4,5}\n",
    "print(a1.union(a2))                           # The element which is common in both set is now only one in new set"
   ]
  },
  {
   "cell_type": "code",
   "execution_count": 19,
   "id": "3eb33e93-0ead-4e8c-8922-570b8b8f292b",
   "metadata": {},
   "outputs": [
    {
     "data": {
      "text/plain": [
       "{'lichi'}"
      ]
     },
     "execution_count": 19,
     "metadata": {},
     "output_type": "execute_result"
    }
   ],
   "source": [
    "# SET INTERSECTION\n",
    "set1={\"apple\",\"mango\",\"banana\",\"lichi\"}\n",
    "set2={\"lichi\",\"watermelon\",\"grapes\",\"kiwi\"}\n",
    "set1.intersection(set2)                                     # The common element will print"
   ]
  },
  {
   "cell_type": "code",
   "execution_count": 20,
   "id": "4c394bf4-d8a9-4254-a26b-a7eeab47f1dc",
   "metadata": {},
   "outputs": [
    {
     "data": {
      "text/plain": [
       "{1, 2, 3}"
      ]
     },
     "execution_count": 20,
     "metadata": {},
     "output_type": "execute_result"
    }
   ],
   "source": [
    "# SET DIFFERENCE\n",
    "set1={1,2,3,4}\n",
    "set2={4,5,6,7}\n",
    "set1.difference(set2)"
   ]
  },
  {
   "cell_type": "code",
   "execution_count": 24,
   "id": "a522dad8-6992-4e4b-b198-240613ba8234",
   "metadata": {},
   "outputs": [
    {
     "data": {
      "text/plain": [
       "{1, 2, 4, 5}"
      ]
     },
     "execution_count": 24,
     "metadata": {},
     "output_type": "execute_result"
    }
   ],
   "source": [
    "# SYMMETRIC DIFFERENCE\n",
    "set1={1,2,3}\n",
    "set2={3,4,5}\n",
    "set1.symmetric_difference(set2)                # common will remove"
   ]
  },
  {
   "cell_type": "markdown",
   "id": "62f9cae3-8eba-4ca3-bcf3-af560aa2bba6",
   "metadata": {},
   "source": [
    "                                              QUESTION NO 7"
   ]
  },
  {
   "cell_type": "code",
   "execution_count": 25,
   "id": "9945ba44-e64e-4c81-95f2-04cc40a7d6fd",
   "metadata": {},
   "outputs": [
    {
     "data": {
      "text/plain": [
       "'Answer : for adding items use syntax dictionary[key]=value'"
      ]
     },
     "execution_count": 25,
     "metadata": {},
     "output_type": "execute_result"
    }
   ],
   "source": [
    "# Question 7 : Describe how to add, moify and delete items in a dictionary with exaamples.\n",
    "\"Answer : for adding items use syntax dictionary[key]=value\""
   ]
  },
  {
   "cell_type": "markdown",
   "id": "0ff89177-e07d-4109-a081-a6f3a8a1f0c1",
   "metadata": {},
   "source": [
    ":- FOR ADDING ITEMS IN A DICTIONARY"
   ]
  },
  {
   "cell_type": "code",
   "execution_count": 43,
   "id": "67d6a0bc-bfbd-4485-94c7-d939572eb977",
   "metadata": {},
   "outputs": [],
   "source": [
    "fruits={\"apple\":5,\"banana\":6,\"orange\":3}\n",
    "fruits[\"watermelon\"]=10          # Here we add another key value pair"
   ]
  },
  {
   "cell_type": "code",
   "execution_count": 44,
   "id": "a1b0a0dc-1bd6-43de-bfdf-438913f852ab",
   "metadata": {},
   "outputs": [
    {
     "data": {
      "text/plain": [
       "{'apple': 5, 'banana': 6, 'orange': 3, 'watermelon': 10}"
      ]
     },
     "execution_count": 44,
     "metadata": {},
     "output_type": "execute_result"
    }
   ],
   "source": [
    "fruits"
   ]
  },
  {
   "cell_type": "markdown",
   "id": "ec83594d-45d1-40e4-b7c7-8b71b4023f24",
   "metadata": {},
   "source": [
    ":- FOR MODIFY ITEMS"
   ]
  },
  {
   "cell_type": "code",
   "execution_count": 45,
   "id": "4da13be1-bfbf-4e39-a839-fbb357b31200",
   "metadata": {},
   "outputs": [],
   "source": [
    "a1={\"pen\":3,\"pencil\":5,\"copy\":6}"
   ]
  },
  {
   "cell_type": "code",
   "execution_count": 46,
   "id": "e54249b7-db66-4df2-ae2e-d8bcb776beed",
   "metadata": {},
   "outputs": [
    {
     "data": {
      "text/plain": [
       "{'pen': 3, 'pencil': 5, 'copy': 6}"
      ]
     },
     "execution_count": 46,
     "metadata": {},
     "output_type": "execute_result"
    }
   ],
   "source": [
    "a1"
   ]
  },
  {
   "cell_type": "code",
   "execution_count": 47,
   "id": "ccae8f27-02fc-497a-879a-b158f5d9e5eb",
   "metadata": {},
   "outputs": [],
   "source": [
    "a1[\"pen\"]=10                      # Here we change or modify the value of pen by 10"
   ]
  },
  {
   "cell_type": "code",
   "execution_count": 48,
   "id": "d81ed06a-b675-4d44-9503-82999a771898",
   "metadata": {},
   "outputs": [
    {
     "data": {
      "text/plain": [
       "{'pen': 10, 'pencil': 5, 'copy': 6}"
      ]
     },
     "execution_count": 48,
     "metadata": {},
     "output_type": "execute_result"
    }
   ],
   "source": [
    "a1"
   ]
  },
  {
   "cell_type": "markdown",
   "id": "ce8f94ad-c005-4039-8db8-3801ab826eb0",
   "metadata": {},
   "source": [
    ":- FOR DELETE ITEMS"
   ]
  },
  {
   "cell_type": "code",
   "execution_count": 57,
   "id": "995a506d-9985-4742-81d2-7856ba3710ec",
   "metadata": {},
   "outputs": [],
   "source": [
    "a1={\"pen\":10,\"pencil\":5,\"copy\":6}"
   ]
  },
  {
   "cell_type": "code",
   "execution_count": 58,
   "id": "4623b7d6-4573-47aa-b621-3a4ab43ef9bb",
   "metadata": {},
   "outputs": [
    {
     "data": {
      "text/plain": [
       "{'pen': 10, 'pencil': 5, 'copy': 6}"
      ]
     },
     "execution_count": 58,
     "metadata": {},
     "output_type": "execute_result"
    }
   ],
   "source": [
    "a1"
   ]
  },
  {
   "cell_type": "code",
   "execution_count": 59,
   "id": "00e6e9de-cdc8-4e6d-aa79-866d3b19638f",
   "metadata": {},
   "outputs": [],
   "source": [
    "del a1[\"pen\"]                        # here we delete pen key from the dictionary"
   ]
  },
  {
   "cell_type": "code",
   "execution_count": 61,
   "id": "281e8d3f-24d0-42f2-b42d-2ac9bbb1a256",
   "metadata": {},
   "outputs": [
    {
     "data": {
      "text/plain": [
       "{'pencil': 5, 'copy': 6}"
      ]
     },
     "execution_count": 61,
     "metadata": {},
     "output_type": "execute_result"
    }
   ],
   "source": [
    "a1                                  # only pencil and copy remains"
   ]
  },
  {
   "cell_type": "markdown",
   "id": "10e614cf-2ba3-40eb-af16-b165cb0d6457",
   "metadata": {},
   "source": [
    "                                            QUESTION NO 8"
   ]
  },
  {
   "cell_type": "code",
   "execution_count": null,
   "id": "32819028-8628-440e-8bca-fd9eeb7393b5",
   "metadata": {},
   "outputs": [],
   "source": [
    "# Discuss the importance of dictionary keys being immutable and provide examples. "
   ]
  },
  {
   "cell_type": "code",
   "execution_count": 62,
   "id": "d636bee4-c8de-480c-a0f6-5f2939b4606b",
   "metadata": {},
   "outputs": [
    {
     "data": {
      "text/plain": [
       "'Answer : if the keys are mutable than their hash is also change.hash value is calculated from the key value find the keys. if we want to make any changes we have to convert it it to list then make changes '"
      ]
     },
     "execution_count": 62,
     "metadata": {},
     "output_type": "execute_result"
    }
   ],
   "source": [
    "\"Answer : if the keys are mutable than their hash is also change.hash value is calculated from the key value find the keys. if we want to make any changes we have to convert it it to list then make changes \""
   ]
  },
  {
   "cell_type": "code",
   "execution_count": 64,
   "id": "d046bf59-7219-4d92-908a-d4fea70200e0",
   "metadata": {},
   "outputs": [
    {
     "ename": "TypeError",
     "evalue": "unhashable type: 'list'",
     "output_type": "error",
     "traceback": [
      "\u001b[0;31m---------------------------------------------------------------------------\u001b[0m",
      "\u001b[0;31mTypeError\u001b[0m                                 Traceback (most recent call last)",
      "Cell \u001b[0;32mIn[64], line 3\u001b[0m\n\u001b[1;32m      1\u001b[0m \u001b[38;5;66;03m# In reference to question 8\u001b[39;00m\n\u001b[1;32m      2\u001b[0m \u001b[38;5;66;03m# if we use mutable type as dictionary key is shows type error\u001b[39;00m\n\u001b[0;32m----> 3\u001b[0m my_dict\u001b[38;5;241m=\u001b[39m{[\u001b[38;5;241m1\u001b[39m,\u001b[38;5;241m2\u001b[39m,\u001b[38;5;241m3\u001b[39m]:\u001b[38;5;124m\"\u001b[39m\u001b[38;5;124m5\u001b[39m\u001b[38;5;124m\"\u001b[39m}                       \u001b[38;5;66;03m# IT SHOWS HASHABLE TYPE ERROR\u001b[39;00m\n",
      "\u001b[0;31mTypeError\u001b[0m: unhashable type: 'list'"
     ]
    }
   ],
   "source": [
    "# In reference to question 8\n",
    "# if we use mutable type as dictionary key is shows type error\n",
    "my_dict={[1,2,3]:\"5\"}                       # IT SHOWS HASHABLE TYPE ERROR"
   ]
  },
  {
   "cell_type": "code",
   "execution_count": 65,
   "id": "8949e02e-6166-4f76-9ae2-c38df501e6f6",
   "metadata": {},
   "outputs": [],
   "source": [
    "# IF WE USE USE TUPLE \n",
    "my_dict={(1,2,3):\"5\"}"
   ]
  },
  {
   "cell_type": "code",
   "execution_count": 67,
   "id": "793e248c-38f5-40f6-9315-243899fbc8a8",
   "metadata": {},
   "outputs": [
    {
     "data": {
      "text/plain": [
       "{(1, 2, 3): '5'}"
      ]
     },
     "execution_count": 67,
     "metadata": {},
     "output_type": "execute_result"
    }
   ],
   "source": [
    "my_dict                                   # IT DO NOT SHOW ANY ERROR BECAUSE WE CHANGE THE TYPE BY TUPLE"
   ]
  }
 ],
 "metadata": {
  "kernelspec": {
   "display_name": "Python 3 (ipykernel)",
   "language": "python",
   "name": "python3"
  },
  "language_info": {
   "codemirror_mode": {
    "name": "ipython",
    "version": 3
   },
   "file_extension": ".py",
   "mimetype": "text/x-python",
   "name": "python",
   "nbconvert_exporter": "python",
   "pygments_lexer": "ipython3",
   "version": "3.10.8"
  }
 },
 "nbformat": 4,
 "nbformat_minor": 5
}
