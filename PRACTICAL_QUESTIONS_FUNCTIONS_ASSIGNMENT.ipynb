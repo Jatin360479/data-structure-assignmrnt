{
  "nbformat": 4,
  "nbformat_minor": 0,
  "metadata": {
    "colab": {
      "provenance": [],
      "authorship_tag": "ABX9TyO9uDC2Z7aSC6B69VcbQf2d",
      "include_colab_link": true
    },
    "kernelspec": {
      "name": "python3",
      "display_name": "Python 3"
    },
    "language_info": {
      "name": "python"
    }
  },
  "cells": [
    {
      "cell_type": "markdown",
      "metadata": {
        "id": "view-in-github",
        "colab_type": "text"
      },
      "source": [
        "<a href=\"https://colab.research.google.com/github/Jatin360479/data-structure-assignmrnt/blob/main/PRACTICAL_QUESTIONS_FUNCTIONS_ASSIGNMENT.ipynb\" target=\"_parent\"><img src=\"https://colab.research.google.com/assets/colab-badge.svg\" alt=\"Open In Colab\"/></a>"
      ]
    },
    {
      "cell_type": "markdown",
      "source": [
        "1.Write a Python function that takes a list of numbers as input and returns the sum of all even numbers in\n",
        "the list."
      ],
      "metadata": {
        "id": "uF-X-U5zF9F5"
      }
    },
    {
      "cell_type": "code",
      "execution_count": null,
      "metadata": {
        "colab": {
          "base_uri": "https://localhost:8080/"
        },
        "id": "2cKLhaCDFuFs",
        "outputId": "08ffd022-6de1-40f1-ca23-cabdee09b1bc"
      },
      "outputs": [
        {
          "output_type": "stream",
          "name": "stdout",
          "text": [
            "12\n"
          ]
        }
      ],
      "source": [
        "def sum_even_numbers(numbers):\n",
        "    \"\"\"\n",
        "    Returns the sum of all even numbers in the input list.\n",
        "\n",
        "    Args:\n",
        "        numbers (list): A list of integers.\n",
        "\n",
        "    Returns:\n",
        "        int: The sum of all even numbers in the list.\n",
        "    \"\"\"\n",
        "    even_sum = sum(num for num in numbers if num % 2 == 0)\n",
        "    return even_sum\n",
        "numbers = [1, 2, 3, 4, 5, 6]\n",
        "result = sum_even_numbers(numbers)\n",
        "print(result)\n"
      ]
    },
    {
      "cell_type": "markdown",
      "source": [
        "2. Create a Python function that accepts a string and returns the reverse of that string."
      ],
      "metadata": {
        "id": "PR1T-LHpGzSa"
      }
    },
    {
      "cell_type": "code",
      "source": [
        "# Reverse String Function\n",
        "\n",
        "def reverse_string(s):\n",
        "    \"\"\"\n",
        "    Returns the reverse of the input string.\n",
        "\n",
        "    Args:\n",
        "        s (str): The input string.\n",
        "\n",
        "    Returns:\n",
        "        str: The reversed string.\n",
        "    \"\"\"\n",
        "    return s[::-1]\n",
        "input_str = \"Hello World\"\n",
        "reversed_str = reverse_string(input_str)\n",
        "print(reversed_str)"
      ],
      "metadata": {
        "colab": {
          "base_uri": "https://localhost:8080/"
        },
        "id": "PZ9e2zY0Ghsb",
        "outputId": "eb91631b-1a8c-40df-c0ab-13beba03b739"
      },
      "execution_count": null,
      "outputs": [
        {
          "output_type": "stream",
          "name": "stdout",
          "text": [
            "dlroW olleH\n"
          ]
        }
      ]
    },
    {
      "cell_type": "markdown",
      "source": [
        "3. Implement a Python function that takes a list of integers and returns a new list containing the squares of\n",
        "each number."
      ],
      "metadata": {
        "id": "XU7ae9opHP67"
      }
    },
    {
      "cell_type": "code",
      "source": [
        "def square_numbers(numbers):\n",
        "    \"\"\"\n",
        "    Returns a new list containing the squares of each number in the input list.\n",
        "\n",
        "    Args:\n",
        "        numbers (list): A list of integers.\n",
        "\n",
        "    Returns:\n",
        "        list: A list of squared integers.\n",
        "    \"\"\"\n",
        "    return [num ** 2 for num in numbers]\n",
        "numbers = [1, 2, 3, 4, 5]\n",
        "squared_numbers = square_numbers(numbers)\n",
        "print(squared_numbers)\n"
      ],
      "metadata": {
        "colab": {
          "base_uri": "https://localhost:8080/"
        },
        "id": "NN0FFgGLG-8P",
        "outputId": "21d07f8e-aa09-41d3-c6e6-c8da48e4047d"
      },
      "execution_count": null,
      "outputs": [
        {
          "output_type": "stream",
          "name": "stdout",
          "text": [
            "[1, 4, 9, 16, 25]\n"
          ]
        }
      ]
    },
    {
      "cell_type": "markdown",
      "source": [
        "4. Write a Python function that checks if a given number is prime or not from 1 to 200."
      ],
      "metadata": {
        "id": "1Cw1UycvHjog"
      }
    },
    {
      "source": [
        "def print_primes(n):\n",
        "    \"\"\"\n",
        "    Prints prime numbers up to n.\n",
        "\n",
        "    Args:\n",
        "        n (int): The upper limit.\n",
        "    \"\"\"\n",
        "\n",
        "    def is_prime(num): # Define is_prime here\n",
        "        \"\"\"\n",
        "        Checks if a number is prime.\n",
        "\n",
        "        Args:\n",
        "            num (int): The number to check\n",
        "\n",
        "        Returns:\n",
        "            bool: True if prime, False otherwise\n",
        "        \"\"\"\n",
        "        if num <= 1:\n",
        "            return False\n",
        "        if num <= 3:\n",
        "            return True\n",
        "        if num % 2 == 0 or num % 3 == 0:\n",
        "            return False\n",
        "        i = 5\n",
        "        while i * i <= num:\n",
        "            if num % i == 0 or num % (i + 2) == 0:\n",
        "                return False\n",
        "            i = i + 6\n",
        "        return True\n",
        "\n",
        "    for i in range(1, n + 1):\n",
        "        if is_prime(i):\n",
        "            print(i)\n",
        "\n",
        "print_primes(200)"
      ],
      "cell_type": "code",
      "metadata": {
        "colab": {
          "base_uri": "https://localhost:8080/"
        },
        "id": "A5jumK2MIWZD",
        "outputId": "b42c1fed-b14b-4c14-bdb3-ad5f5d81b53c"
      },
      "execution_count": null,
      "outputs": [
        {
          "output_type": "stream",
          "name": "stdout",
          "text": [
            "2\n",
            "3\n",
            "5\n",
            "7\n",
            "11\n",
            "13\n",
            "17\n",
            "19\n",
            "23\n",
            "29\n",
            "31\n",
            "37\n",
            "41\n",
            "43\n",
            "47\n",
            "53\n",
            "59\n",
            "61\n",
            "67\n",
            "71\n",
            "73\n",
            "79\n",
            "83\n",
            "89\n",
            "97\n",
            "101\n",
            "103\n",
            "107\n",
            "109\n",
            "113\n",
            "127\n",
            "131\n",
            "137\n",
            "139\n",
            "149\n",
            "151\n",
            "157\n",
            "163\n",
            "167\n",
            "173\n",
            "179\n",
            "181\n",
            "191\n",
            "193\n",
            "197\n",
            "199\n"
          ]
        }
      ]
    },
    {
      "cell_type": "markdown",
      "source": [
        "5. Create an iterator class in Python that generates the Fibonacci sequence up to a specified number of\n",
        "terms."
      ],
      "metadata": {
        "id": "zk5yirzUIjv4"
      }
    },
    {
      "source": [
        "class FibonacciIterator:\n",
        "    \"\"\"\n",
        "    Generates the Fibonacci sequence up to a specified number of terms.\n",
        "\n",
        "    Attributes:\n",
        "        max_terms (int): The maximum number of terms.\n",
        "        current_term (int): The current term index.\n",
        "        a (int): The first Fibonacci number.\n",
        "        b (int): The second Fibonacci number.\n",
        "    \"\"\"\n",
        "\n",
        "    def __init__(self, max_terms):\n",
        "        \"\"\"\n",
        "        Initializes the Fibonacci iterator.\n",
        "\n",
        "        Args:\n",
        "            max_terms (int): The maximum number of terms.\n",
        "        \"\"\"\n",
        "        self.max_terms = max_terms\n",
        "        self.current_term = 0\n",
        "        self.a = 0\n",
        "        self.b = 1\n",
        "\n",
        "    def __iter__(self):\n",
        "        \"\"\"\n",
        "        Returns the iterator object.\n",
        "        \"\"\"\n",
        "        return self\n",
        "\n",
        "    def __next__(self):\n",
        "        \"\"\"\n",
        "        Returns the next Fibonacci number.\n",
        "\n",
        "        Raises:\n",
        "            StopIteration: If the maximum number of terms is reached.\n",
        "        \"\"\"\n",
        "        if self.current_term >= self.max_terms:\n",
        "            raise StopIteration\n",
        "        result = self.a\n",
        "        self.a, self.b = self.b, self.a + self.b\n",
        "        self.current_term += 1\n",
        "        return result\n",
        "fib_iterator = FibonacciIterator(10)\n",
        "for num in fib_iterator:\n",
        "    print(num)"
      ],
      "cell_type": "code",
      "metadata": {
        "colab": {
          "base_uri": "https://localhost:8080/"
        },
        "id": "n_9CR2XPH9Bb",
        "outputId": "b4b869bf-c059-407e-ce62-547a8eae6831"
      },
      "execution_count": null,
      "outputs": [
        {
          "output_type": "stream",
          "name": "stdout",
          "text": [
            "0\n",
            "1\n",
            "1\n",
            "2\n",
            "3\n",
            "5\n",
            "8\n",
            "13\n",
            "21\n",
            "34\n"
          ]
        }
      ]
    },
    {
      "cell_type": "markdown",
      "source": [
        "6. Write a generator function in Python that yields the powers of 2 up to a given exponent"
      ],
      "metadata": {
        "id": "a1dtZHwkJPgY"
      }
    },
    {
      "source": [
        "def powers_of_two(max_exponent):\n",
        "    \"\"\"\n",
        "    Generates powers of 2 up to a given exponent.\n",
        "\n",
        "    Args:\n",
        "        max_exponent (int): The maximum exponent.\n",
        "\n",
        "    Yields:\n",
        "        int: The next power of 2.\n",
        "    \"\"\"\n",
        "    for exponent in range(max_exponent + 1):\n",
        "        yield 2 ** exponent\n",
        "max_exponent = 5\n",
        "for power in powers_of_two(max_exponent):\n",
        "    print(power)\n"
      ],
      "cell_type": "code",
      "metadata": {
        "colab": {
          "base_uri": "https://localhost:8080/"
        },
        "id": "DPPspmsxH9C-",
        "outputId": "8f09af23-e0c4-486a-d180-79e2adcbda65"
      },
      "execution_count": 11,
      "outputs": [
        {
          "output_type": "stream",
          "name": "stdout",
          "text": [
            "1\n",
            "2\n",
            "4\n",
            "8\n",
            "16\n",
            "32\n"
          ]
        }
      ]
    },
    {
      "cell_type": "markdown",
      "source": [
        "7. Implement a generator function that reads a file line by line and yields each line as a string."
      ],
      "metadata": {
        "id": "4SBTwblgKt4C"
      }
    },
    {
      "cell_type": "code",
      "source": [],
      "metadata": {
        "id": "VwheUkUCPF3c"
      },
      "execution_count": 23,
      "outputs": []
    },
    {
      "cell_type": "markdown",
      "source": [
        "8. Use a lambda function in Python to sort a list of tuples based on the second element of each tuple.\n"
      ],
      "metadata": {
        "id": "1y3IbF3lQAR0"
      }
    },
    {
      "cell_type": "code",
      "source": [
        "# List of tuples\n",
        "tuples_list = [(3, 6), (1, 9), (2, 4), (4, 7), (5, 1)]\n",
        "\n",
        "# Sort tuples using lambda function\n",
        "sorted_tuples = sorted(tuples_list, key=lambda x: x[1])\n",
        "\n",
        "print(sorted_tuples)"
      ],
      "metadata": {
        "colab": {
          "base_uri": "https://localhost:8080/"
        },
        "id": "JCQhpchZPyD7",
        "outputId": "4fef449f-fbb7-47dc-d9e6-7d3c4df2f045"
      },
      "execution_count": 25,
      "outputs": [
        {
          "output_type": "stream",
          "name": "stdout",
          "text": [
            "[(5, 1), (2, 4), (3, 6), (4, 7), (1, 9)]\n"
          ]
        }
      ]
    },
    {
      "cell_type": "markdown",
      "source": [
        "9. Write a Python program that uses `map()` to convert a list of temperatures from Celsius to Fahrenheit."
      ],
      "metadata": {
        "id": "aEeCrO6BQi4e"
      }
    },
    {
      "cell_type": "code",
      "source": [
        "# Define a function to convert Celsius to Fahrenheit\n",
        "def celsius_to_fahrenheit(celsius):\n",
        "    return (celsius * 9/5) + 32\n",
        "\n",
        "# List of temperatures in Celsius\n",
        "celsius_temps = [0, 10, 20, 30, 40]\n",
        "\n",
        "# Use map() to convert Celsius to Fahrenheit\n",
        "fahrenheit_temps = list(map(celsius_to_fahrenheit, celsius_temps))\n",
        "print(\"Celsius:\", celsius_temps)\n",
        "print(\"Fahrenheit:\", fahrenheit_temps) # Changed 'fahrenheit_temp' to 'fahrenheit_temps'"
      ],
      "metadata": {
        "colab": {
          "base_uri": "https://localhost:8080/"
        },
        "id": "15pP6CawQuIG",
        "outputId": "6e788381-29bf-40eb-9fc3-a358c099864c"
      },
      "execution_count": 28,
      "outputs": [
        {
          "output_type": "stream",
          "name": "stdout",
          "text": [
            "Celsius: [0, 10, 20, 30, 40]\n",
            "Fahrenheit: [32.0, 50.0, 68.0, 86.0, 104.0]\n"
          ]
        }
      ]
    },
    {
      "cell_type": "markdown",
      "source": [
        "10. Create a Python program that uses `filter()` to remove all the vowels from a given string"
      ],
      "metadata": {
        "id": "LQAE1XHBRVoQ"
      }
    },
    {
      "cell_type": "code",
      "source": [
        "# Define a function to check if a character is not a vowel\n",
        "def is_not_vowel(char):\n",
        "    vowels = 'aeiouAEIOU'\n",
        "    return char not in vowels\n",
        "\n",
        "# Input string\n",
        "input_str = \"Hello World\"\n",
        "\n",
        "# Use filter() to remove vowels\n",
        "result_str = ''.join(filter(is_not_vowel, input_str))\n",
        "\n",
        "print(\"Original String:\", input_str)\n",
        "print(\"String without Vowels:\", result_str)\n"
      ],
      "metadata": {
        "colab": {
          "base_uri": "https://localhost:8080/"
        },
        "id": "GNHZTsDlRCAM",
        "outputId": "d6152a12-152e-4f02-f283-31a21b1fbf72"
      },
      "execution_count": 29,
      "outputs": [
        {
          "output_type": "stream",
          "name": "stdout",
          "text": [
            "Original String: Hello World\n",
            "String without Vowels: Hll Wrld\n"
          ]
        }
      ]
    },
    {
      "cell_type": "markdown",
      "source": [
        "11) Imagine an accounting routine used in a book shop. It works on a list with sublists, which look like this:\n",
        "This question is half\n",
        "\n",
        "\n",
        "\n",
        "\n",
        "\n",
        "\n"
      ],
      "metadata": {
        "id": "OJXmbV--Rseo"
      }
    },
    {
      "cell_type": "code",
      "source": [
        "# Sample data\n",
        "orders = [\n",
        "    {\"order_number\": 34587, \"price_per_item\": 40.95, \"quantity\": 4},\n",
        "    {\"order_number\": 98762, \"price_per_item\": 56.80, \"quantity\": 5},\n",
        "    {\"order_number\": 77226, \"price_per_item\": 32.95, \"quantity\": 3},\n",
        "    {\"order_number\": 88112, \"price_per_item\": 24.99, \"quantity\": 3},\n",
        "]\n",
        "# Lambda function to calculate order value\n",
        "calculate_order_value = lambda order: (\n",
        "    order[\"order_number\"],\n",
        "    order[\"price_per_item\"] * order[\"quantity\"] + (10 if order[\"price_per_item\"] * order[\"quantity\"] < 100 else 0)\n",
        ")\n",
        "\n",
        "# Use map to apply lambda function to orders\n",
        "result = list(map(calculate_order_value, orders))\n",
        "\n",
        "print(result)"
      ],
      "metadata": {
        "colab": {
          "base_uri": "https://localhost:8080/"
        },
        "id": "iMPf8xmIRjJI",
        "outputId": "cac7badd-e1e3-4a69-828c-14a0b2c77127"
      },
      "execution_count": 35,
      "outputs": [
        {
          "output_type": "stream",
          "name": "stdout",
          "text": [
            "[(34587, 163.8), (98762, 284.0), (77226, 108.85000000000001), (88112, 84.97)]\n"
          ]
        }
      ]
    },
    {
      "cell_type": "code",
      "source": [],
      "metadata": {
        "id": "wV6R0JxXUV_s"
      },
      "execution_count": null,
      "outputs": []
    }
  ]
}