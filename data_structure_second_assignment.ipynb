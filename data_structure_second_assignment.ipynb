{
  "nbformat": 4,
  "nbformat_minor": 0,
  "metadata": {
    "colab": {
      "provenance": [],
      "authorship_tag": "ABX9TyPKn+62q/prsYpRRoOXU294",
      "include_colab_link": true
    },
    "kernelspec": {
      "name": "python3",
      "display_name": "Python 3"
    },
    "language_info": {
      "name": "python"
    }
  },
  "cells": [
    {
      "cell_type": "markdown",
      "metadata": {
        "id": "view-in-github",
        "colab_type": "text"
      },
      "source": [
        "<a href=\"https://colab.research.google.com/github/Jatin360479/data-structure-assignmrnt/blob/main/data_structure_second_assignment.ipynb\" target=\"_parent\"><img src=\"https://colab.research.google.com/assets/colab-badge.svg\" alt=\"Open In Colab\"/></a>"
      ]
    },
    {
      "cell_type": "markdown",
      "source": [
        "1. WRITE A CODE TO REVERSE A STRING"
      ],
      "metadata": {
        "id": "X-pP6ED8YK3J"
      }
    },
    {
      "cell_type": "code",
      "execution_count": null,
      "metadata": {
        "colab": {
          "base_uri": "https://localhost:8080/"
        },
        "id": "PMhpT7tbVhI9",
        "outputId": "0824edc4-e8cd-4334-f92b-adb9cd910b48"
      },
      "outputs": [
        {
          "output_type": "stream",
          "name": "stdout",
          "text": [
            "dlrow olleh\n"
          ]
        }
      ],
      "source": [
        "def reverse_string(s):\n",
        "    return s[::-1]\n",
        "print(reverse_string(\"hello world\"))"
      ]
    },
    {
      "cell_type": "markdown",
      "source": [
        "2. WRITE A CODE TO COUNT VOWELS IN A STRING"
      ],
      "metadata": {
        "id": "FtgtPTNdYctB"
      }
    },
    {
      "cell_type": "code",
      "source": [
        "def count_vowels(s):\n",
        "    vowels = \"aeiouAEIOU\"\n",
        "    count = 0\n",
        "    for char in s:\n",
        "        if char in vowels:\n",
        "            count += 1\n",
        "    return count\n",
        "print(count_vowels(\"data structure assignment\"))\n"
      ],
      "metadata": {
        "colab": {
          "base_uri": "https://localhost:8080/"
        },
        "id": "Nnz60UuHV4Z2",
        "outputId": "3f332981-2961-4b75-e7ef-87fda06acd2f"
      },
      "execution_count": null,
      "outputs": [
        {
          "output_type": "stream",
          "name": "stdout",
          "text": [
            "8\n"
          ]
        }
      ]
    },
    {
      "cell_type": "markdown",
      "source": [
        "3. WRITE A CODE TO CHECK IF THE STRING IS PALINDROME OR NOT"
      ],
      "metadata": {
        "id": "Tz6LN1SMb8dX"
      }
    },
    {
      "cell_type": "code",
      "source": [
        "def is_palindrome(s):\n",
        "    if len(s) <= 1:\n",
        "        return True\n",
        "    else:\n",
        "        if s[0] == s[-1]:\n",
        "            return is_palindrome(s[1:-1])\n",
        "        else:\n",
        "            return False\n",
        "print(is_palindrome(\"madam\"))"
      ],
      "metadata": {
        "colab": {
          "base_uri": "https://localhost:8080/"
        },
        "id": "BN6PUp9-b7yn",
        "outputId": "e53e87c3-4ab6-48a1-c422-f4e0b5342f7c"
      },
      "execution_count": null,
      "outputs": [
        {
          "output_type": "stream",
          "name": "stdout",
          "text": [
            "True\n"
          ]
        }
      ]
    },
    {
      "cell_type": "markdown",
      "source": [
        "4.WRITE A CODE TO CHECK IF TWO GIVEN STRINGS ARE ANAGRAMS OF EACH OTHER"
      ],
      "metadata": {
        "id": "MDnSgIZPamIh"
      }
    },
    {
      "cell_type": "code",
      "source": [
        "def are_anagrams(str1, str2):\n",
        "    str1 = str1.replace(\" \", \"\").lower()\n",
        "    str2 = str2.replace(\" \", \"\").lower()\n",
        "    return sorted(str1) == sorted(str2)"
      ],
      "metadata": {
        "id": "XMX2wdLkWJI2"
      },
      "execution_count": null,
      "outputs": []
    },
    {
      "cell_type": "code",
      "source": [
        "print(are_anagrams(\"listen\",\"silent\"))"
      ],
      "metadata": {
        "colab": {
          "base_uri": "https://localhost:8080/"
        },
        "id": "56Br8G5Da6UB",
        "outputId": "62d9a553-2542-4a69-f65c-4b15b93ff7ff"
      },
      "execution_count": null,
      "outputs": [
        {
          "output_type": "stream",
          "name": "stdout",
          "text": [
            "True\n"
          ]
        }
      ]
    },
    {
      "cell_type": "markdown",
      "source": [
        "5. WRITE A CODE TO FIND ALL OCCURENCES OF A GIVEN SUBSTRING WITHIN ANOTHER STRING."
      ],
      "metadata": {
        "id": "CJM84Nkwbu2z"
      }
    },
    {
      "cell_type": "code",
      "source": [
        "def find_subsrtring(string, substring):\n",
        "    words = []\n",
        "    start = 0\n",
        "    while True:\n",
        "        index = string.find(substring, start)\n",
        "        if index == -1:\n",
        "            break\n",
        "        words.append(index)\n",
        "        start = index + 1\n",
        "    return words\n",
        "print(find_subsrtring(\"hello world\", \"o\"))"
      ],
      "metadata": {
        "colab": {
          "base_uri": "https://localhost:8080/"
        },
        "id": "KJBf2U1ObE59",
        "outputId": "8bfba4fc-6bbb-4f8f-cdd9-0b615da931cc"
      },
      "execution_count": null,
      "outputs": [
        {
          "output_type": "stream",
          "name": "stdout",
          "text": [
            "[4, 7]\n"
          ]
        }
      ]
    },
    {
      "cell_type": "markdown",
      "source": [
        "6. WRITE A CODE TO PERFORM BASIC STRING COMPRESSION USING THE COUNTS OF REPEATED CHARACTERS.  "
      ],
      "metadata": {
        "id": "PsvnYXOofts-"
      }
    },
    {
      "cell_type": "code",
      "source": [
        "def compress_string(s):\n",
        "  s=s.upper()\n",
        "  count=1\n",
        "  res=''\n",
        "  for i in range(1,len(s)):\n",
        "    if s[i]==s[i-1]:\n",
        "      count+=1\n",
        "    else:\n",
        "      res+=s[i-1]+str(count)\n",
        "      count=1\n",
        "  res+=s[-1]+str(count)\n",
        "  return res\n",
        "print(compress_string(\"aaabbbccc\"))"
      ],
      "metadata": {
        "colab": {
          "base_uri": "https://localhost:8080/"
        },
        "id": "DdFWFI1GdjR2",
        "outputId": "d4068a9d-284d-43c3-a741-f1793b267338"
      },
      "execution_count": null,
      "outputs": [
        {
          "output_type": "stream",
          "name": "stdout",
          "text": [
            "A3B3C3\n"
          ]
        }
      ]
    },
    {
      "cell_type": "markdown",
      "source": [
        "7.WRITE A CODE TO DETERMINE IF A STRING HAS  ALL CHARACTER UNIQUE."
      ],
      "metadata": {
        "id": "wGo_xxzrfr-g"
      }
    },
    {
      "cell_type": "code",
      "source": [
        "def has_unique_characters(S):\n",
        "  for i in range(len(S)):\n",
        "    for j in range(i+1,len(S)):\n",
        "      if S[i]==S[j]:\n",
        "        return False\n",
        "  return True\n",
        "print(has_unique_characters(\"jatin\"))"
      ],
      "metadata": {
        "colab": {
          "base_uri": "https://localhost:8080/"
        },
        "id": "gK9bxl4pZ4b_",
        "outputId": "66267cfc-35a9-4109-8b24-703f899a6a16"
      },
      "execution_count": null,
      "outputs": [
        {
          "output_type": "stream",
          "name": "stdout",
          "text": [
            "True\n"
          ]
        }
      ]
    },
    {
      "cell_type": "markdown",
      "source": [
        "8. WRITE A CODE TO CONVERT A GIVEN STRING TO UPPERCASE OR LOWER CASE"
      ],
      "metadata": {
        "id": "cnWiW6Kxawhv"
      }
    },
    {
      "cell_type": "code",
      "source": [
        "def upper_lower(S):\n",
        "  return S.lower()\n",
        "print(upper_lower(\"JATIN\"))"
      ],
      "metadata": {
        "id": "VVgX_YDKaIcw",
        "colab": {
          "base_uri": "https://localhost:8080/"
        },
        "outputId": "af0ac3d2-abcf-4133-f5e0-0cce6f872285"
      },
      "execution_count": null,
      "outputs": [
        {
          "output_type": "stream",
          "name": "stdout",
          "text": [
            "jatin\n"
          ]
        }
      ]
    },
    {
      "cell_type": "code",
      "source": [
        "def upper_lower(S):\n",
        "  return S.upper()\n",
        "print(upper_lower(\"jatin\"))"
      ],
      "metadata": {
        "colab": {
          "base_uri": "https://localhost:8080/"
        },
        "id": "XWbAM1iEbciq",
        "outputId": "37a448c5-4ee2-4fb2-8693-5ad660656ca0"
      },
      "execution_count": null,
      "outputs": [
        {
          "output_type": "stream",
          "name": "stdout",
          "text": [
            "JATIN\n"
          ]
        }
      ]
    },
    {
      "cell_type": "markdown",
      "source": [
        "9.WRITE A CODE TO COUNT THE NO OF WORDS IN A STRING."
      ],
      "metadata": {
        "id": "0cfkLn_7bqqo"
      }
    },
    {
      "cell_type": "code",
      "source": [
        "def count_words(s):\n",
        "  words=s.split()\n",
        "  return len(words)\n",
        "print(count_words(\"hello world\"))"
      ],
      "metadata": {
        "colab": {
          "base_uri": "https://localhost:8080/"
        },
        "id": "DMol-rc3bog_",
        "outputId": "075bb6fa-ebf3-45ef-a13b-a495dc537e51"
      },
      "execution_count": null,
      "outputs": [
        {
          "output_type": "stream",
          "name": "stdout",
          "text": [
            "2\n"
          ]
        }
      ]
    },
    {
      "cell_type": "markdown",
      "source": [
        "10.WRITE A CODE TO CONCATENATE TWO STRINGS WITHOUT USING + OPERATOR."
      ],
      "metadata": {
        "id": "7h0uLDoGcbCY"
      }
    },
    {
      "cell_type": "code",
      "source": [
        "def concat_string(s1,s2):\n",
        "  return ''.join((s1,s2))\n",
        "print(concat_string(\"hello\",\"world\"))\n"
      ],
      "metadata": {
        "colab": {
          "base_uri": "https://localhost:8080/"
        },
        "id": "07KK9OMxcI3w",
        "outputId": "a344b816-5e3a-4f06-a6f5-64dbeedd55ff"
      },
      "execution_count": null,
      "outputs": [
        {
          "output_type": "stream",
          "name": "stdout",
          "text": [
            "helloworld\n"
          ]
        }
      ]
    },
    {
      "cell_type": "markdown",
      "source": [
        "11.WRITE A CODE TO REMOVE ALL OCCURENCES OF SPECIFIC ELEMENTS FROM A LIST."
      ],
      "metadata": {
        "id": "d-uInrHgdm5I"
      }
    },
    {
      "cell_type": "code",
      "source": [
        "def remove_elements(lst, elements_to_remove):\n",
        "    return [x for x in lst if x not in elements_to_remove]\n",
        "lst = [1, 2, 3, 4, 2, 5, 6, 2, 7]\n",
        "elements_to_remove = [2, 5]\n",
        "result = remove_elements(lst, elements_to_remove)\n",
        "print(result)"
      ],
      "metadata": {
        "colab": {
          "base_uri": "https://localhost:8080/"
        },
        "id": "pRBvUPmHdgXh",
        "outputId": "d94122f2-73d5-403c-fcaa-22fae2e0c596"
      },
      "execution_count": null,
      "outputs": [
        {
          "output_type": "stream",
          "name": "stdout",
          "text": [
            "[1, 3, 4, 6, 7]\n"
          ]
        }
      ]
    },
    {
      "cell_type": "markdown",
      "source": [
        "12.IMPLEMENT A CODE TO FIND THE SECOND LARGEST NUMBER IN A GIVEN LIST OF INTEGERS."
      ],
      "metadata": {
        "id": "MgqUaZHfgISo"
      }
    },
    {
      "cell_type": "code",
      "source": [
        "def second_largest(lst):\n",
        "  lst.sort()\n",
        "  return lst[-2]\n",
        "print(second_largest([1,2,3,4,5]))"
      ],
      "metadata": {
        "colab": {
          "base_uri": "https://localhost:8080/"
        },
        "id": "NmTfydr6eaow",
        "outputId": "099fbb99-dcc5-40f0-89e1-4f475fd45e20"
      },
      "execution_count": null,
      "outputs": [
        {
          "output_type": "stream",
          "name": "stdout",
          "text": [
            "4\n"
          ]
        }
      ]
    },
    {
      "cell_type": "markdown",
      "source": [
        "13.CREATE A CODE TO COUNT THE OCCURENCES OF EACH ELEMENTS IN A STRING AND RETURN A DICTIONARY WITH ELEMENTS AS KEYS AND THEIR COUNTS AS VALUES."
      ],
      "metadata": {
        "id": "Dlwu_JN7hUB6"
      }
    },
    {
      "cell_type": "code",
      "source": [
        "def count_elements(s):\n",
        "  count={}\n",
        "  for char in s:\n",
        "    if char in count:\n",
        "      count[char]+=1\n",
        "    else:\n",
        "      count[char]=1\n",
        "  return count\n",
        "print(count_elements(\"helloworld\"))"
      ],
      "metadata": {
        "colab": {
          "base_uri": "https://localhost:8080/"
        },
        "id": "8hcIfAh2gwJg",
        "outputId": "47e089b3-020e-46a8-d0de-d5427db71e33"
      },
      "execution_count": null,
      "outputs": [
        {
          "output_type": "stream",
          "name": "stdout",
          "text": [
            "{'h': 1, 'e': 1, 'l': 3, 'o': 2, 'w': 1, 'r': 1, 'd': 1}\n"
          ]
        }
      ]
    },
    {
      "cell_type": "markdown",
      "source": [
        "14.WRITE A CODE TO REVERSE A LIST IN-PLACE WITHOUT USING ANY BUILT-IN REVERSE FUNCTION."
      ],
      "metadata": {
        "id": "-Y36ShAbkeR5"
      }
    },
    {
      "cell_type": "code",
      "source": [
        "def reverse_list(lst):\n",
        "  start=0\n",
        "  end=len(lst)-1\n",
        "  while start<end:\n",
        "    lst[start],lst[end]=lst[end],lst[start]\n",
        "    start+=1\n",
        "    end-=1\n",
        "  return lst\n",
        "print(reverse_list([1,2,3,4,5]))"
      ],
      "metadata": {
        "colab": {
          "base_uri": "https://localhost:8080/"
        },
        "id": "bMuff0YWhZ2g",
        "outputId": "1e8da879-cbca-49bb-f5b2-010475c9d609"
      },
      "execution_count": null,
      "outputs": [
        {
          "output_type": "stream",
          "name": "stdout",
          "text": [
            "[5, 4, 3, 2, 1]\n"
          ]
        }
      ]
    },
    {
      "cell_type": "markdown",
      "source": [
        "15.IMPLEMENT A CODE TO FIND AND REMOVE DUPLICATES FROM A LIST WHILE PRESERVING THE ORIGINAL ORDER OF ELEMENTS."
      ],
      "metadata": {
        "id": "KDprKcktk_wR"
      }
    },
    {
      "cell_type": "code",
      "source": [
        "def remove_duplicates(lst):\n",
        "  unique_lst=[]\n",
        "  for item in lst:\n",
        "    if item not in unique_lst:\n",
        "      unique_lst.append(item)\n",
        "  return unique_lst\n",
        "print(remove_duplicates([1,2,3,4,5,2,3,4,5]))"
      ],
      "metadata": {
        "colab": {
          "base_uri": "https://localhost:8080/"
        },
        "id": "O9qvULYdktCh",
        "outputId": "6f8a5147-9099-41b5-e674-9985d791f608"
      },
      "execution_count": null,
      "outputs": [
        {
          "output_type": "stream",
          "name": "stdout",
          "text": [
            "[1, 2, 3, 4, 5]\n"
          ]
        }
      ]
    },
    {
      "cell_type": "markdown",
      "source": [
        "16.CREATE A CODE TO CHECK IF A GIVEN LIST IS SORTED (EITHER IN ASCENDING OR DECENDING ORDER) OR NOT."
      ],
      "metadata": {
        "id": "a11uEmm3nS-a"
      }
    },
    {
      "cell_type": "code",
      "source": [
        "def is_sorted(lst):\n",
        "  return lst==sorted(lst) or lst==sorted(lst,reverse=True)\n",
        "print(is_sorted([1,2,3,4,5]))"
      ],
      "metadata": {
        "id": "ck_hYgKSm1EB",
        "colab": {
          "base_uri": "https://localhost:8080/"
        },
        "outputId": "bc679d3a-25e4-4999-f393-aaf422369c90"
      },
      "execution_count": null,
      "outputs": [
        {
          "output_type": "stream",
          "name": "stdout",
          "text": [
            "True\n"
          ]
        }
      ]
    },
    {
      "cell_type": "markdown",
      "source": [
        "17.WRITE A CODE TO MERGE TWO SORTED LIST INTO A SINGLE SORTED LIST."
      ],
      "metadata": {
        "id": "Eel5EYMFY0Oq"
      }
    },
    {
      "cell_type": "code",
      "source": [
        "def merge_sorted_list(lst1,lst2):\n",
        "  lst1.extend(lst2)\n",
        "  lst1.sort()\n",
        "  return lst1\n",
        "print(merge_sorted_list([1,2,3,4,5],[6,7,8,9,10]))"
      ],
      "metadata": {
        "colab": {
          "base_uri": "https://localhost:8080/"
        },
        "id": "iPvcYcBLYQP1",
        "outputId": "15b8ee6b-d271-421f-bfe5-6526c1a0d47d"
      },
      "execution_count": null,
      "outputs": [
        {
          "output_type": "stream",
          "name": "stdout",
          "text": [
            "[1, 2, 3, 4, 5, 6, 7, 8, 9, 10]\n"
          ]
        }
      ]
    },
    {
      "cell_type": "markdown",
      "source": [
        "18.IMPLEMENT A CODE TO FIND THE INTERSECTION OF TWO GIVEN LISTS."
      ],
      "metadata": {
        "id": "kCAF9kkPZiPB"
      }
    },
    {
      "cell_type": "code",
      "source": [
        "def intersection(lst1,lst2):\n",
        "  return list(set(lst1) & set(lst2))\n",
        "print(intersection([1,2,3,4,5],[4,5,6,7,8]))"
      ],
      "metadata": {
        "colab": {
          "base_uri": "https://localhost:8080/"
        },
        "id": "q-C-9YX-ZXiX",
        "outputId": "253a0bf9-6263-47a0-c302-4858c61f1804"
      },
      "execution_count": null,
      "outputs": [
        {
          "output_type": "stream",
          "name": "stdout",
          "text": [
            "[4, 5]\n"
          ]
        }
      ]
    },
    {
      "cell_type": "markdown",
      "source": [
        "19.CREATE A CODE TO FIND THE UNION OF TWO LISTS WITHOUT DUPLICATES."
      ],
      "metadata": {
        "id": "autn7I5CaE1d"
      }
    },
    {
      "cell_type": "code",
      "source": [
        "S1=[1,2,3,4,5]\n",
        "S2=[4,5,6,7,8]\n",
        "print(list(set(S1) | set(S2)))"
      ],
      "metadata": {
        "colab": {
          "base_uri": "https://localhost:8080/"
        },
        "id": "fNycT3OPZ0RZ",
        "outputId": "6aa44885-20e7-47ba-b849-b6c8282c9663"
      },
      "execution_count": null,
      "outputs": [
        {
          "output_type": "stream",
          "name": "stdout",
          "text": [
            "[1, 2, 3, 4, 5, 6, 7, 8]\n"
          ]
        }
      ]
    },
    {
      "cell_type": "markdown",
      "source": [
        "20.WRITE A CODE TO SHUFFLE A GIVEN LIST RANDOMLY WITHOUT USING ANY BUILT-IN SHUFFLE FUNCTION."
      ],
      "metadata": {
        "id": "-W_gDf5IZ7jt"
      }
    },
    {
      "cell_type": "code",
      "source": [
        "def shuffle(lst):\n",
        "  import random\n",
        "  for i in range(len(lst)-1,0,-1):\n",
        "    j=random.randint(0,i)\n",
        "    lst[i],lst[j]=lst[j],lst[i]\n",
        "  return lst\n",
        "print(shuffle([1,2,3,4,5]))"
      ],
      "metadata": {
        "colab": {
          "base_uri": "https://localhost:8080/"
        },
        "id": "ZvhsxbnbZ9pV",
        "outputId": "dfca5780-aa17-4910-8ef6-62da3de5f2d9"
      },
      "execution_count": null,
      "outputs": [
        {
          "output_type": "stream",
          "name": "stdout",
          "text": [
            "[4, 5, 3, 2, 1]\n"
          ]
        }
      ]
    },
    {
      "cell_type": "markdown",
      "source": [
        "21.WRITE A CODE THAT TAKES TWO TUPLES AS INPUT AND RETURNS A NEW TUPLE CONTAINING ELEMENTS THAT ARE COMMON TO BOTH INPUT TUPLES."
      ],
      "metadata": {
        "id": "5LPZt-g9Z-cd"
      }
    },
    {
      "cell_type": "code",
      "source": [
        "def main():\n",
        "    # Get two tuples from user\n",
        "    # The function get_tuple_from_user has not been defined.\n",
        "    # A new function definition is included below.\n",
        "\n",
        "    def get_tuple_from_user(prompt): # Define get_tuple_from_user before it's called\n",
        "        input_str = input(prompt)\n",
        "        str_list = input_str.split(\",\")\n",
        "        int_tuple = tuple(int(x.strip()) for x in str_list)\n",
        "        return int_tuple\n",
        "\n",
        "    tuple1 = get_tuple_from_user((\"Enter first tuple (comma-separated values): \"))\n",
        "    tuple2 = get_tuple_from_user((\"Enter second tuple (comma-separated values): \"))\n",
        "\n",
        "    # Find and print common elements\n",
        "    # Define find_common_elements\n",
        "    def find_common_elements(tuple1,tuple2):\n",
        "        common_elements=tuple(set(tuple1) & set(tuple2))\n",
        "        return common_elements\n",
        "\n",
        "    common_elements = find_common_elements(tuple1, tuple2)\n",
        "\n",
        "    print(\"Common elements in the two tuples:\")\n",
        "    print(common_elements)\n",
        "\n",
        "if __name__ == \"__main__\":\n",
        "    main()"
      ],
      "metadata": {
        "colab": {
          "base_uri": "https://localhost:8080/"
        },
        "id": "Go9rgSVTZ-6N",
        "outputId": "baf4c2fc-6aec-4c32-8bb4-039c0eefdd49"
      },
      "execution_count": null,
      "outputs": [
        {
          "output_type": "stream",
          "name": "stdout",
          "text": [
            "Enter first tuple (comma-separated values): 7,8,9,10\n",
            "Enter second tuple (comma-separated values): 9,10,11,12\n",
            "Common elements in the two tuples:\n",
            "(9, 10)\n"
          ]
        }
      ]
    },
    {
      "cell_type": "markdown",
      "source": [
        "22.CREATE A CODE THAT PROMOTES THE USER TO ENTER TWO SETS OF INTEGERS SEPARATED BY COMMAS . THEN PRINT THE INTERSECTION OF THESE TWO SETS."
      ],
      "metadata": {
        "id": "hCdVp1XWZ_ct"
      }
    },
    {
      "cell_type": "code",
      "source": [
        "def main():\n",
        "    # Get two sets from user\n",
        "    # The function get_set_from_user has not been defined.\n",
        "    # A new function definition is included below.\n",
        "    set1 = get_set_from_user(\"Enter first set of integers (separated by commas): \")\n",
        "    set2 = get_set_from_user(\"Enter second set of integers (separated by commas): \")\n",
        "\n",
        "    # Calculate and print intersection\n",
        "    intersection = set1 & set2\n",
        "    print(\"Intersection of the two sets:\")\n",
        "    print(intersection)\n",
        "\n",
        "def get_set_from_user(prompt):\n",
        "    # Get input from user\n",
        "    input_str = input(prompt)\n",
        "    # Split input into a list of strings\n",
        "    str_list = input_str.split(\",\")\n",
        "    # Convert the list of strings into a set of integers\n",
        "    int_set = {int(x.strip()) for x in str_list}\n",
        "    return int_set\n",
        "\n",
        "if __name__ == \"__main__\":\n",
        "    main()"
      ],
      "metadata": {
        "colab": {
          "base_uri": "https://localhost:8080/"
        },
        "id": "5fFQdqe_aAkj",
        "outputId": "8ae06dde-7d25-44a0-8519-f362e5380f3f"
      },
      "execution_count": null,
      "outputs": [
        {
          "output_type": "stream",
          "name": "stdout",
          "text": [
            "Enter first set of integers (separated by commas): 1,2,3,4,5\n",
            "Enter second set of integers (separated by commas): 4,5,6,7,8\n",
            "Intersection of the two sets:\n",
            "{4, 5}\n"
          ]
        }
      ]
    },
    {
      "cell_type": "markdown",
      "source": [
        "23.WRITE A CODE TO CONCATENATE TWO TUPLES. THE FUCTION SHOULD TAKE TWO TUPLES AS INPUT AND RETURN A NEW TUPLE CONTAINING ELEMENTS FROM BOTH INPUT TUPLES."
      ],
      "metadata": {
        "id": "AB5_ChUEaBDN"
      }
    },
    {
      "cell_type": "code",
      "source": [
        "def main():\n",
        "  tuple1 = get_tuple_from_user(\"Enter first tuple (comma-separated values): \")\n",
        "  tuple2 = get_tuple_from_user(\"Enter second tuple (comma-separated values): \")\n",
        "  concatenated_tuple = concatenate_tuples(tuple1, tuple2)\n",
        "  print(\"Concatenated tuple:\")\n",
        "  print(concatenated_tuple)\n",
        "def get_tuple_from_user(prompt):\n",
        "  input_str = input(prompt)\n",
        "  str_list = input_str.split(\",\")\n",
        "  int_tuple = tuple(int(x.strip()) for x in str_list)\n",
        "  return int_tuple\n",
        "\n",
        "def concatenate_tuples(tuple1, tuple2):\n",
        "  concatenated_tuple = tuple1 + tuple2\n",
        "  return concatenated_tuple\n",
        "if __name__ == \"__main__\":\n",
        "  main()\n",
        "\n"
      ],
      "metadata": {
        "colab": {
          "base_uri": "https://localhost:8080/"
        },
        "id": "bDpmgj3iaBfW",
        "outputId": "91740102-ea28-4296-dc79-a00f35215309"
      },
      "execution_count": null,
      "outputs": [
        {
          "output_type": "stream",
          "name": "stdout",
          "text": [
            "Enter first tuple (comma-separated values): 1,2,3,4\n",
            "Enter second tuple (comma-separated values): 5,6,7,8\n",
            "Concatenated tuple:\n",
            "(1, 2, 3, 4, 5, 6, 7, 8)\n"
          ]
        }
      ]
    },
    {
      "cell_type": "markdown",
      "source": [
        "24.DEVELOP A CODE THAT PROMOTES THE USER TO INPUT TWO SETS OF STRINGS. THEN PRINT THE ELEMENTS THAT ARE PRESENT IN THE FIRST SET BUT NOT IN THE SECOND SET."
      ],
      "metadata": {
        "id": "BrkwWgd1aCD1"
      }
    },
    {
      "cell_type": "code",
      "source": [
        "def main():\n",
        "  set1 = get_set_from_user(\"Enter first set of strings (comma-separated values): \")\n",
        "  set2 = get_set_from_user(\"Enter second set of strings (comma-separated values): \")\n",
        "  difference = set1 - set2\n",
        "  print(\"Elements in the first set but not in the second set:\")\n",
        "  print(difference)\n",
        "\n",
        "def get_set_from_user(prompt):\n",
        "  input_str = input(prompt)\n",
        "  str_list = input_str.split(\",\")\n",
        "  str_set = {x.strip() for x in str_list}\n",
        "  return str_set\n",
        "if __name__ == \"__main__\":\n",
        "  main()"
      ],
      "metadata": {
        "colab": {
          "base_uri": "https://localhost:8080/"
        },
        "id": "BreYQY0haCi1",
        "outputId": "4b2a80a5-33a6-403b-832b-46a21371aa4f"
      },
      "execution_count": null,
      "outputs": [
        {
          "output_type": "stream",
          "name": "stdout",
          "text": [
            "Enter first set of strings (comma-separated values): 7,8,9,10\n",
            "Enter second set of strings (comma-separated values): 10,11,12,13\n",
            "Elements in the first set but not in the second set:\n",
            "{'8', '9', '7'}\n"
          ]
        }
      ]
    },
    {
      "cell_type": "markdown",
      "source": [
        "25.CREATE A CODE THAT TAKES A TUPLE AND TWO INTEGERS AS INPUT.THE FUNCTION SHOULD RETURN A NEW TUPLE CONTAINING ELEMENTS FROM THE ORIGINAL TUPLE WITHIN THE SPECIFIED RANGE OF INDICES."
      ],
      "metadata": {
        "id": "R9g9FEjP36mA"
      }
    },
    {
      "cell_type": "code",
      "source": [
        "def main():\n",
        "  input_tuple = get_tuple_from_user(\"Enter a tuple (comma-separated values): \")\n",
        "  start_index = int(input(\"Enter the start index: \")) #This line was causing the error. Remove the int() cast\n",
        "  end_index = int(input(\"Enter the end index: \"))\n",
        "  result_tuple = get_elements_within_range(input_tuple, start_index, end_index)\n",
        "  print(\"New tuple with elements within the specified range:\")\n",
        "  print(result_tuple)\n",
        "\n",
        "def get_tuple_from_user(prompt):\n",
        "  input_str = input(prompt)\n",
        "  str_list = input_str.split(\",\")\n",
        "  int_tuple = tuple(int(x.strip()) for x in str_list)\n",
        "  return int_tuple # The original code was returning int instead of int_tuple. Changed to return int_tuple\n",
        "\n",
        "def get_elements_within_range(input_tuple, start_index, end_index):\n",
        "  result_tuple = input_tuple[start_index:end_index+1]\n",
        "  return result_tuple\n",
        "if __name__ == \"__main__\":\n",
        "  main()"
      ],
      "metadata": {
        "colab": {
          "base_uri": "https://localhost:8080/"
        },
        "id": "KLj1SZ533hoP",
        "outputId": "588658f6-39db-41c0-d391-e42f4677022e"
      },
      "execution_count": null,
      "outputs": [
        {
          "output_type": "stream",
          "name": "stdout",
          "text": [
            "Enter a tuple (comma-separated values): 1,2,3,4,5,6,7,8,9\n",
            "Enter the start index: 4\n",
            "Enter the end index: 7\n",
            "New tuple with elements within the specified range:\n",
            "(5, 6, 7, 8)\n"
          ]
        }
      ]
    },
    {
      "cell_type": "markdown",
      "source": [
        "26.WRITE A CODE THAT PROMOTES THE USER TO INPUT TWO SETS OF CHARCTER.THEN PRINT THE UNION OF THESE TWO SETS."
      ],
      "metadata": {
        "id": "NecjWXS7378X"
      }
    },
    {
      "cell_type": "code",
      "source": [
        "def main():\n",
        "  set1 = get_set_from_user(\"Enter first set of characters (comma-separated values): \")\n",
        "  set2 = get_set_from_user(\"Enter second set of characters (comma-separated values): \")\n",
        "  union = set1 | set2\n",
        "  print(\"Union of the two sets:\")\n",
        "  print(union)\n",
        "\n",
        "def get_set_from_user(prompt):\n",
        "  input_str = input(prompt)\n",
        "  char_list = list(input_str)\n",
        "  char_set = set(char_list)\n",
        "  return char_set\n",
        "\n",
        "if __name__ == \"__main__\":\n",
        "  main()"
      ],
      "metadata": {
        "id": "gn2j3tOB38qq",
        "colab": {
          "base_uri": "https://localhost:8080/"
        },
        "outputId": "499ae392-285c-41b2-8ebf-0d473b00b7df"
      },
      "execution_count": null,
      "outputs": [
        {
          "output_type": "stream",
          "name": "stdout",
          "text": [
            "Enter first set of characters (comma-separated values): 1,2,3,4,5\n",
            "Enter second set of characters (comma-separated values): 4,5,6,7\n",
            "Union of the two sets:\n",
            "{'3', '7', '5', '6', '4', '2', '1', ','}\n"
          ]
        }
      ]
    },
    {
      "cell_type": "markdown",
      "source": [
        "27.DEVELOP A CODE THAT TAKES A TUPLE OF INTEGERS AS INPUT. THE FUNCTION SHOULD RETURN THE MAXIMUM AND MINIMUM VALUES FROM THE TUPLE USING TUPLE UNPACKING.\n"
      ],
      "metadata": {
        "id": "n2nw0hHI39Fo"
      }
    },
    {
      "cell_type": "code",
      "source": [
        "def main():\n",
        "  input_tuple = get_set_from_user(\"Enter a tuple of integers (comma-separated values): \")\n",
        "  max_value, min_value = find_max_min(input_tuple)\n",
        "  print(\"Maximum value:\", max_value)\n",
        "  print(\"Minimum value:\", min_value)\n",
        "\n",
        "def get_set_from_user(prompt):\n",
        "  input_str = input(prompt)\n",
        "  str_list = input_str.split(\",\")\n",
        "  int_tuple = tuple(int(x.strip()) for x in str_list)\n",
        "  return int_tuple\n",
        "\n",
        "def find_max_min(input_tuple):\n",
        "  max_value = max(input_tuple)\n",
        "  min_value = min(input_tuple)\n",
        "  return max_value, min_value\n",
        "if __name__ == \"__main__\":\n",
        "  main()"
      ],
      "metadata": {
        "id": "gtg9sUAP3-Iv",
        "colab": {
          "base_uri": "https://localhost:8080/"
        },
        "outputId": "4597a9fe-d3e9-4698-ab91-369373c44e7b"
      },
      "execution_count": null,
      "outputs": [
        {
          "output_type": "stream",
          "name": "stdout",
          "text": [
            "Enter a tuple of integers (comma-separated values): 45,47,78,98,63\n",
            "Maximum value: 98\n",
            "Minimum value: 45\n"
          ]
        }
      ]
    },
    {
      "cell_type": "markdown",
      "source": [
        "28.CREATE A CODE THAT DEFINE TWO SETS OF INTEGERS.THEN PRINT THE UNION,INTERSECTION,AND DIFFERENCE OF THESE TWO SETS."
      ],
      "metadata": {
        "id": "UpF_2ygAflOU"
      }
    },
    {
      "cell_type": "code",
      "source": [
        "def main():\n",
        "  set1 = get_set_from_user(\"Enter first set of integers (comma-separated values): \")\n",
        "  set2 = get_set_from_user(\"Enter second set of integers (comma-separated values): \")\n",
        "  union = set1 | set2\n",
        "  intersection = set1 & set2\n",
        "  difference = set1 - set2\n",
        "  print(\"Union of the two sets:\")\n",
        "  print(union)\n",
        "  print(\"Intersection of the two sets:\")\n",
        "  print(intersection)\n",
        "  print(\"Difference of the two sets:\")\n",
        "  print(difference)\n",
        "\n",
        "def get_set_from_user(prompt):\n",
        "  input_str = input(prompt)\n",
        "  str_list = input_str.split(\",\")\n",
        "  int_set = {int(x.strip()) for x in str_list}\n",
        "  return int_set\n",
        "  print(int_set)\n",
        "\n",
        "if __name__ == \"__main__\":\n",
        "  main()"
      ],
      "metadata": {
        "colab": {
          "base_uri": "https://localhost:8080/"
        },
        "id": "pb-QCRsofdg4",
        "outputId": "5ab0e6f6-5cb8-445b-895c-e67d9fa42599"
      },
      "execution_count": null,
      "outputs": [
        {
          "output_type": "stream",
          "name": "stdout",
          "text": [
            "Enter first set of integers (comma-separated values): 44,45,46,47\n",
            "Enter second set of integers (comma-separated values): 46,47,48,49\n",
            "Union of the two sets:\n",
            "{44, 45, 46, 47, 48, 49}\n",
            "Intersection of the two sets:\n",
            "{46, 47}\n",
            "Difference of the two sets:\n",
            "{44, 45}\n"
          ]
        }
      ]
    },
    {
      "cell_type": "markdown",
      "source": [
        "29.WRITE A CODE THAT TAKES A TUPLE AND AN ELEMENT AS INPUT. THE FUNCTION SHOULD RETURN THE COUNT OF OCCURENCES OF THE GIVEN ELEMENT IN THE TUPLE."
      ],
      "metadata": {
        "id": "QcpvwNfMnGDR"
      }
    },
    {
      "cell_type": "code",
      "source": [
        "def main():\n",
        "  input_tuple = get_tuple_from_user(\"Enter a tuple (comma-separated values): \")\n",
        "  element = int(input(\"Enter an element to count: \"))\n",
        "  count = count_element(input_tuple, element)\n",
        "  print(\"Count of\", element, \"in the tuple:\", count)\n",
        "def get_tuple_from_user(prompt):\n",
        "    input_str = input(prompt)\n",
        "    str_list = input_str.split(\",\")\n",
        "    int_tuple = tuple(int(x.strip()) for x in str_list)\n",
        "    return int_tuple\n",
        "\n",
        "# de-indent count_element function to be in the global scope\n",
        "def count_element(input_tuple, element):\n",
        "      count = input_tuple.count(element)\n",
        "      return count\n",
        "if __name__ == \"__main__\":\n",
        "  main()\n"
      ],
      "metadata": {
        "id": "pAhgDC9vlO7A",
        "colab": {
          "base_uri": "https://localhost:8080/"
        },
        "outputId": "dd22930d-5908-4dbd-c755-f853453e9b3a"
      },
      "execution_count": null,
      "outputs": [
        {
          "output_type": "stream",
          "name": "stdout",
          "text": [
            "Enter a tuple (comma-separated values): 1,2,3,2,4,2,5,2\n",
            "Enter an element to count: 2\n",
            "Count of 2 in the tuple: 4\n"
          ]
        }
      ]
    },
    {
      "cell_type": "markdown",
      "source": [
        "30.DEVELOP A CODE THAT PROMOTES THE USER TO INPUT TWO SETS OF STRINGS. THEN PRINT THE SYMMETRIC DIFFERENCE OF THESE TWO SETS."
      ],
      "metadata": {
        "id": "Iqyoty1bZKCC"
      }
    },
    {
      "cell_type": "code",
      "source": [
        "def get_set_from_user(prompt):\n",
        "    \"\"\"\n",
        "    Get a set of strings from user input.\n",
        "\n",
        "    Args:\n",
        "        prompt (str): The prompt to display to the user.\n",
        "\n",
        "    Returns:\n",
        "        set: A set of strings.\n",
        "    \"\"\"\n",
        "    user_input = input(prompt)\n",
        "    return set(user_input.split(','))\n",
        "\n",
        "\n",
        "def main():\n",
        "    # Get two sets from user\n",
        "    set1 = get_set_from_user(\"Enter first set of strings (comma-separated): \")\n",
        "    set2 = get_set_from_user(\"Enter second set of strings (comma-separated): \")\n",
        "\n",
        "    # Calculate symmetric difference\n",
        "    symmetric_diff = set1.symmetric_difference(set2)\n",
        "\n",
        "    # Print symmetric difference\n",
        "    print(\"Symmetric Difference:\")\n",
        "    print(symmetric_diff)\n",
        "\n",
        "\n",
        "if __name__ == \"__main__\":\n",
        "    main()\n"
      ],
      "metadata": {
        "colab": {
          "base_uri": "https://localhost:8080/"
        },
        "id": "14EC-3kmVFgX",
        "outputId": "58de001b-7447-44f6-ae3a-fd24723ef711"
      },
      "execution_count": null,
      "outputs": [
        {
          "output_type": "stream",
          "name": "stdout",
          "text": [
            "Enter first set of strings (comma-separated): 1,2,3,4,5\n",
            "Enter second set of strings (comma-separated): 4,5,6,7,8\n",
            "Symmetric Difference:\n",
            "{'3', '8', '2', '1', '7', '6'}\n"
          ]
        }
      ]
    },
    {
      "cell_type": "markdown",
      "source": [
        "31.WRITE A CODE A CODE THAT TAKES A LIST OF WORDS AS INPUT AND RETURNS A DICTIONARY WHERE THE KEYS ARE UNIQUE WORDS AND THE VALUES THE FREQUENCIES OF THOSE WORDS IS THE INPUT LIST.\n"
      ],
      "metadata": {
        "id": "44rauAevj_Li"
      }
    },
    {
      "cell_type": "code",
      "source": [
        "def main():\n",
        "  input_list = get_list_from_user(\"Enter a list of words (comma-separated values): \")\n",
        "  word_frequency = count_word_frequency(input_list)\n",
        "  print(\"Word frequency dictionary:\")\n",
        "  print(word_frequency)\n",
        "\n",
        "def get_list_from_user(prompt):\n",
        "  input_str = input(prompt)\n",
        "  str_list = input_str.split(\",\")\n",
        "  return str_list\n",
        "  print(str_list)\n",
        "\n",
        "def count_word_frequency(input_list):\n",
        "  word_frequency = {}\n",
        "  for word in input_list:\n",
        "    word = word.strip()\n",
        "    if word in word_frequency:\n",
        "      word_frequency[word] += 1\n",
        "    else:\n",
        "      word_frequency[word] = 1\n",
        "  return word_frequency\n",
        "if __name__ == \"__main__\":\n",
        "  main()"
      ],
      "metadata": {
        "colab": {
          "base_uri": "https://localhost:8080/"
        },
        "id": "pvDcKK0NZwlO",
        "outputId": "c9bb9966-381b-4e8e-bcd5-5bf49ce9f178"
      },
      "execution_count": null,
      "outputs": [
        {
          "output_type": "stream",
          "name": "stdout",
          "text": [
            "Enter a list of words (comma-separated values): 4,5,6,7,8\n",
            "Word frequency dictionary:\n",
            "{'4': 1, '5': 1, '6': 1, '7': 1, '8': 1}\n"
          ]
        }
      ]
    },
    {
      "cell_type": "markdown",
      "source": [
        "32.WRITE A CODE THAT TAKES TWO DICTIONARIES AS INPUT AND MERGES THEM INTO A SINGLE DICTIONARY. IF THERE ARE COMMON KEYS,THE VALUE SHOULD BE ADDED TOGETHER"
      ],
      "metadata": {
        "id": "z3DaUy2eSQ3-"
      }
    },
    {
      "cell_type": "code",
      "source": [
        "def merge_dictionaries(dict1, dict2):\n",
        "    # Convert dict1 to a dictionary\n",
        "    dict1 = dict(item.split(\":\") for item in dict1)\n",
        "    merged_dict = {**dict1, **dict2}\n",
        "    for key in dict1.keys():\n",
        "        if key in dict2.keys():\n",
        "            merged_dict[key] = dict1[key] + dict2[key]\n",
        "    return merged_dict\n",
        "dict1 = input(\"Enter the first dictionary (comma-separated key-value pairs): \").split(',')\n",
        "dict2 = {'b': 40, 'c': 50, 'd': 60}\n",
        "print(merge_dictionaries(dict1, dict2))"
      ],
      "metadata": {
        "id": "8vQxCjzgUaPY",
        "colab": {
          "base_uri": "https://localhost:8080/"
        },
        "outputId": "021f647a-c7a7-4af4-b579-46c6fce2daf1"
      },
      "execution_count": 13,
      "outputs": [
        {
          "output_type": "stream",
          "name": "stdout",
          "text": [
            "Enter the first dictionary (comma-separated key-value pairs): {'a': 10, 'b': 20, 'c': 30}\n",
            "{\"{'a'\": ' 10', \" 'b'\": ' 20', \" 'c'\": ' 30}', 'b': 40, 'c': 50, 'd': 60}\n"
          ]
        }
      ]
    },
    {
      "cell_type": "markdown",
      "source": [
        "33.WRITE A COD ACCESS A VALUE IN A NESTED DICTIONARY. THE FUNCTION SHOULD TAKE THE DICTIONARY AND A LIST OF KEYS AS AS INPUT,AND RETURN THE CORRESPONDING VALUE.IF ANY OF THE KEYS DO NOT EXIST IN THE DICTIONARY, THE FUNCTION SHOULD RETURN NONE."
      ],
      "metadata": {
        "id": "y8ZYKFgfVZWz"
      }
    },
    {
      "cell_type": "code",
      "source": [
        "def access_nested_value(dictionary, keys):\n",
        "    value = dictionary\n",
        "    for key in keys:\n",
        "        if isinstance(value, dict) and key in value:\n",
        "            value = value[key]\n",
        "        else:\n",
        "            return None\n",
        "    return value\n",
        "nested_dict = {'a': {'b': {'c': 10}}, 'd': 20}\n",
        "keys = ['a', 'b', 'c']\n",
        "\n",
        "print(access_nested_value(nested_dict, keys))\n",
        "\n",
        "keys = ['a', 'b', 'e']\n",
        "print(access_nested_value(nested_dict, keys))\n",
        "\n",
        "keys = ['d']\n",
        "print(access_nested_value(nested_dict, keys))\n",
        "\n"
      ],
      "metadata": {
        "colab": {
          "base_uri": "https://localhost:8080/"
        },
        "id": "L49Z32hcSnJw",
        "outputId": "7e9091d6-86c2-46cd-ec7d-7c0c211bc6c0"
      },
      "execution_count": 2,
      "outputs": [
        {
          "output_type": "stream",
          "name": "stdout",
          "text": [
            "10\n",
            "None\n",
            "20\n"
          ]
        }
      ]
    },
    {
      "cell_type": "markdown",
      "source": [
        "34.WRITE A CODE THAT TAKES DICTIONARY AS INPUT AND RETURNS A SORTED VERSION OF IT BASED ON THE VALUES. YOU CAN CHOOSE WEATHER TO SORT IN ASCENDING AND DESCENDING ORDER."
      ],
      "metadata": {
        "id": "1XDurDKtY-UF"
      }
    },
    {
      "cell_type": "code",
      "source": [
        "# prompt: WRITE A CODE THAT TAKES DICTIONARY AS INPUT AND RETURNS A SORTED VERSION OF IT BASED ON THE VALUES. YOU CAN CHOOSE WEATHER TO SORT IN ASCENDING AND DESCENDING ORDER.\n",
        "\n",
        "def sort_dictionary_by_values(dictionary, ascending=True):\n",
        "    \"\"\"\n",
        "    Sorts a dictionary by its values.\n",
        "\n",
        "    Args:\n",
        "        dictionary (dict): The dictionary to sort.\n",
        "        ascending (bool): Whether to sort in ascending order (True) or descending order (False).\n",
        "\n",
        "    Returns:\n",
        "        dict: A new dictionary sorted by values.\n",
        "    \"\"\"\n",
        "    sorted_items = sorted(dictionary.items(), key=lambda item: item[1], reverse=not ascending)\n",
        "    return dict(sorted_items)\n",
        "\n",
        "# Example usage:\n",
        "my_dict = {'apple': 3, 'banana': 1, 'cherry': 2}\n",
        "\n",
        "sorted_ascending = sort_dictionary_by_values(my_dict)\n",
        "print(\"Ascending order:\", sorted_ascending)\n",
        "\n",
        "sorted_descending = sort_dictionary_by_values(my_dict, ascending=False)\n",
        "print(\"Descending order:\", sorted_descending)\n"
      ],
      "metadata": {
        "colab": {
          "base_uri": "https://localhost:8080/"
        },
        "id": "ppt5TKKzXUxe",
        "outputId": "9c356fad-9bae-4a2b-e6f4-89770c6e013d"
      },
      "execution_count": 3,
      "outputs": [
        {
          "output_type": "stream",
          "name": "stdout",
          "text": [
            "Ascending order: {'banana': 1, 'cherry': 2, 'apple': 3}\n",
            "Descending order: {'apple': 3, 'cherry': 2, 'banana': 1}\n"
          ]
        }
      ]
    },
    {
      "cell_type": "markdown",
      "source": [
        "35.WRITE A CODE THAT INVERTS A DICTIONARY,SWAPPING KEYS AND VALUES.ENSURE THAT THE INVERTED DICTIONARY CORRECTLY HANDLES CASES WHERE MULTIPLE KEYS HAVE THE SAME VALUE BY SORTING VALUE BY SORTING KEYS AS A LIST IN THE INVERTED DICTIONARY.  "
      ],
      "metadata": {
        "id": "lIpY-94TavHy"
      }
    },
    {
      "cell_type": "code",
      "source": [
        "# prompt: WRITE A CODE THAT INVERTS A DICTIONARY,SWAPPING KEYS AND VALUES.ENSURE THAT THE INVERTED DICTIONARY CORRECTLY HANDLES CASES WHERE MULTIPLE KEYS HAVE THE SAME VALUE BY SORTING VALUE BY SORTING KEYS AS A LIST IN THE INVERTED DICTIONARY.\n",
        "\n",
        "def invert_dictionary(dictionary):\n",
        "    inverted_dict = {}\n",
        "    for key, value in dictionary.items():\n",
        "        if value not in inverted_dict:\n",
        "            inverted_dict[value] = [key]\n",
        "        else:\n",
        "            inverted_dict[value].append(key)\n",
        "    for key in inverted_dict:\n",
        "        inverted_dict[key].sort()\n",
        "    return inverted_dict\n",
        "\n",
        "\n",
        "# Example usage:\n",
        "my_dict = {'apple': 1, 'banana': 2, 'cherry': 1, 'date': 3}\n",
        "inverted_dict = invert_dictionary(my_dict)\n",
        "print(\"Original dictionary:\", my_dict)\n",
        "print(\"Inverted dictionary:\", inverted_dict)\n"
      ],
      "metadata": {
        "colab": {
          "base_uri": "https://localhost:8080/"
        },
        "id": "Vj2P31oNao6Q",
        "outputId": "1405ee1c-51ab-4f6e-bf37-41456c87a528"
      },
      "execution_count": 5,
      "outputs": [
        {
          "output_type": "stream",
          "name": "stdout",
          "text": [
            "Original dictionary: {'apple': 1, 'banana': 2, 'cherry': 1, 'date': 3}\n",
            "Inverted dictionary: {1: ['apple', 'cherry'], 2: ['banana'], 3: ['date']}\n"
          ]
        }
      ]
    },
    {
      "cell_type": "code",
      "source": [],
      "metadata": {
        "id": "uizKWoygbu0w"
      },
      "execution_count": null,
      "outputs": []
    }
  ]
}